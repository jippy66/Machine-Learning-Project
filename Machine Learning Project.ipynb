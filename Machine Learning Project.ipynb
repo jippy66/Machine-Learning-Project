{
 "cells": [
  {
   "cell_type": "markdown",
   "id": "8023bca6",
   "metadata": {},
   "source": [
    "### Name = Ganpat Patidar , ID = prep0122231"
   ]
  },
  {
   "cell_type": "markdown",
   "id": "0d1eb4ef",
   "metadata": {},
   "source": [
    "# Machine Learning Project"
   ]
  },
  {
   "cell_type": "markdown",
   "id": "947755d7",
   "metadata": {},
   "source": [
    "Objective:\n",
    "Your task is to write a small Python that predicts the engine rating based on the inspection parameters using only the provided dataset. You need to find all the cases/outliers where the rating has been given incorrectly as compared to current condition of the engine.\n",
    " \n",
    "This task is designed to test your Python ability, your knowledge of Data Science techniques, your ability to find trends, outliers, relative importance of variables with deviation in target variable and your ability to work effectively, efficiently and independently within a commercial setting.\n",
    " \n",
    "This task is designed as well to test your hyper-tuning abilities or lateral thinking.\n",
    " \n",
    "Deliverables:\n",
    "·     \tOne Python Script\n",
    "·     \tSummary of your insights\n",
    "·     \tList of cases which are outliers/incorrectly rated as high or low and it should be backed with analysis/reasons.\n",
    "·        model object files for reproducibility.\n",
    " \n",
    " \n",
    "Your solution should at a minimum do the following:\n",
    "·     \tLoad the data into memory\n",
    "·     \tPrepare the data for modelling\n",
    "·     \tEDA of the variables\n",
    "·     \tBuild a model on training data\n",
    "·     \tTest the model on testing data\n",
    "·     \tProvide some measure of performance\n",
    "·     \tOutlier analysis and detection\n",
    " \n"
   ]
  },
  {
   "cell_type": "markdown",
   "id": "1302aaf9",
   "metadata": {},
   "source": [
    "# EDA"
   ]
  },
  {
   "cell_type": "markdown",
   "id": "77498e01",
   "metadata": {},
   "source": [
    "- import required library"
   ]
  },
  {
   "cell_type": "code",
   "execution_count": 1,
   "id": "0f9623ae",
   "metadata": {},
   "outputs": [],
   "source": [
    "import numpy as np\n",
    "import pandas as pd\n",
    "import matplotlib.pyplot as plt\n",
    "import seaborn as sns"
   ]
  },
  {
   "cell_type": "markdown",
   "id": "9e71a0df",
   "metadata": {},
   "source": [
    "- load data"
   ]
  },
  {
   "cell_type": "code",
   "execution_count": 2,
   "id": "3dacca30",
   "metadata": {},
   "outputs": [],
   "source": [
    "file_path = \"ML Data.xlsx\"\n",
    "\n",
    "df = pd.read_excel(file_path, sheet_name = 0)"
   ]
  },
  {
   "cell_type": "code",
   "execution_count": 4,
   "id": "25c04ca7",
   "metadata": {},
   "outputs": [
    {
     "data": {
      "text/html": [
       "<div>\n",
       "<style scoped>\n",
       "    .dataframe tbody tr th:only-of-type {\n",
       "        vertical-align: middle;\n",
       "    }\n",
       "\n",
       "    .dataframe tbody tr th {\n",
       "        vertical-align: top;\n",
       "    }\n",
       "\n",
       "    .dataframe thead th {\n",
       "        text-align: right;\n",
       "    }\n",
       "</style>\n",
       "<table border=\"1\" class=\"dataframe\">\n",
       "  <thead>\n",
       "    <tr style=\"text-align: right;\">\n",
       "      <th></th>\n",
       "      <th>appointmentId</th>\n",
       "      <th>inspectionStartTime</th>\n",
       "      <th>year</th>\n",
       "      <th>month</th>\n",
       "      <th>engineTransmission_battery_value</th>\n",
       "      <th>engineTransmission_battery_cc_value_0</th>\n",
       "      <th>engineTransmission_battery_cc_value_1</th>\n",
       "      <th>engineTransmission_battery_cc_value_2</th>\n",
       "      <th>engineTransmission_battery_cc_value_3</th>\n",
       "      <th>engineTransmission_battery_cc_value_4</th>\n",
       "      <th>...</th>\n",
       "      <th>engineTransmission_gearShifting_cc_value_1</th>\n",
       "      <th>engineTransmission_gearShifting_cc_value_2</th>\n",
       "      <th>engineTransmission_comments_value_0</th>\n",
       "      <th>engineTransmission_comments_value_1</th>\n",
       "      <th>engineTransmission_comments_value_2</th>\n",
       "      <th>engineTransmission_comments_value_3</th>\n",
       "      <th>engineTransmission_comments_value_4</th>\n",
       "      <th>fuel_type</th>\n",
       "      <th>odometer_reading</th>\n",
       "      <th>rating_engineTransmission</th>\n",
       "    </tr>\n",
       "  </thead>\n",
       "  <tbody>\n",
       "    <tr>\n",
       "      <th>0</th>\n",
       "      <td>aj_01</td>\n",
       "      <td>2019-03-02 15:43:00</td>\n",
       "      <td>2008.0</td>\n",
       "      <td>8.0</td>\n",
       "      <td>No</td>\n",
       "      <td>Weak</td>\n",
       "      <td>NaN</td>\n",
       "      <td>NaN</td>\n",
       "      <td>NaN</td>\n",
       "      <td>NaN</td>\n",
       "      <td>...</td>\n",
       "      <td>NaN</td>\n",
       "      <td>NaN</td>\n",
       "      <td>Pickup Low</td>\n",
       "      <td>Starter Motor / Solenoid malfunctioning</td>\n",
       "      <td>NaN</td>\n",
       "      <td>NaN</td>\n",
       "      <td>NaN</td>\n",
       "      <td>Petrol + CNG</td>\n",
       "      <td>124600.0</td>\n",
       "      <td>3.0</td>\n",
       "    </tr>\n",
       "    <tr>\n",
       "      <th>1</th>\n",
       "      <td>aj_02</td>\n",
       "      <td>1/16/19 13:02</td>\n",
       "      <td>2007.0</td>\n",
       "      <td>5.0</td>\n",
       "      <td>Yes</td>\n",
       "      <td>NaN</td>\n",
       "      <td>NaN</td>\n",
       "      <td>NaN</td>\n",
       "      <td>NaN</td>\n",
       "      <td>NaN</td>\n",
       "      <td>...</td>\n",
       "      <td>NaN</td>\n",
       "      <td>NaN</td>\n",
       "      <td>NaN</td>\n",
       "      <td>NaN</td>\n",
       "      <td>NaN</td>\n",
       "      <td>NaN</td>\n",
       "      <td>NaN</td>\n",
       "      <td>Petrol + CNG</td>\n",
       "      <td>78108.0</td>\n",
       "      <td>4.0</td>\n",
       "    </tr>\n",
       "    <tr>\n",
       "      <th>2</th>\n",
       "      <td>aj_03</td>\n",
       "      <td>2019-09-02 13:31:00</td>\n",
       "      <td>2012.0</td>\n",
       "      <td>5.0</td>\n",
       "      <td>Yes</td>\n",
       "      <td>NaN</td>\n",
       "      <td>NaN</td>\n",
       "      <td>NaN</td>\n",
       "      <td>NaN</td>\n",
       "      <td>NaN</td>\n",
       "      <td>...</td>\n",
       "      <td>NaN</td>\n",
       "      <td>NaN</td>\n",
       "      <td>NaN</td>\n",
       "      <td>NaN</td>\n",
       "      <td>NaN</td>\n",
       "      <td>NaN</td>\n",
       "      <td>NaN</td>\n",
       "      <td>Diesel</td>\n",
       "      <td>93348.0</td>\n",
       "      <td>3.5</td>\n",
       "    </tr>\n",
       "    <tr>\n",
       "      <th>3</th>\n",
       "      <td>aj_04</td>\n",
       "      <td>1/18/19 11:02</td>\n",
       "      <td>2013.0</td>\n",
       "      <td>1.0</td>\n",
       "      <td>Yes</td>\n",
       "      <td>NaN</td>\n",
       "      <td>NaN</td>\n",
       "      <td>NaN</td>\n",
       "      <td>NaN</td>\n",
       "      <td>NaN</td>\n",
       "      <td>...</td>\n",
       "      <td>NaN</td>\n",
       "      <td>NaN</td>\n",
       "      <td>NaN</td>\n",
       "      <td>NaN</td>\n",
       "      <td>NaN</td>\n",
       "      <td>NaN</td>\n",
       "      <td>NaN</td>\n",
       "      <td>Petrol + CNG</td>\n",
       "      <td>48233.0</td>\n",
       "      <td>3.5</td>\n",
       "    </tr>\n",
       "    <tr>\n",
       "      <th>4</th>\n",
       "      <td>aj_05</td>\n",
       "      <td>1/27/19 12:12</td>\n",
       "      <td>2011.0</td>\n",
       "      <td>7.0</td>\n",
       "      <td>Yes</td>\n",
       "      <td>NaN</td>\n",
       "      <td>NaN</td>\n",
       "      <td>NaN</td>\n",
       "      <td>NaN</td>\n",
       "      <td>NaN</td>\n",
       "      <td>...</td>\n",
       "      <td>NaN</td>\n",
       "      <td>NaN</td>\n",
       "      <td>NaN</td>\n",
       "      <td>NaN</td>\n",
       "      <td>NaN</td>\n",
       "      <td>NaN</td>\n",
       "      <td>NaN</td>\n",
       "      <td>Petrol + CNG</td>\n",
       "      <td>74368.0</td>\n",
       "      <td>4.0</td>\n",
       "    </tr>\n",
       "  </tbody>\n",
       "</table>\n",
       "<p>5 rows × 73 columns</p>\n",
       "</div>"
      ],
      "text/plain": [
       "  appointmentId  inspectionStartTime    year  month  \\\n",
       "0         aj_01  2019-03-02 15:43:00  2008.0    8.0   \n",
       "1         aj_02        1/16/19 13:02  2007.0    5.0   \n",
       "2         aj_03  2019-09-02 13:31:00  2012.0    5.0   \n",
       "3         aj_04        1/18/19 11:02  2013.0    1.0   \n",
       "4         aj_05        1/27/19 12:12  2011.0    7.0   \n",
       "\n",
       "  engineTransmission_battery_value engineTransmission_battery_cc_value_0  \\\n",
       "0                               No                                  Weak   \n",
       "1                              Yes                                   NaN   \n",
       "2                              Yes                                   NaN   \n",
       "3                              Yes                                   NaN   \n",
       "4                              Yes                                   NaN   \n",
       "\n",
       "  engineTransmission_battery_cc_value_1 engineTransmission_battery_cc_value_2  \\\n",
       "0                                   NaN                                   NaN   \n",
       "1                                   NaN                                   NaN   \n",
       "2                                   NaN                                   NaN   \n",
       "3                                   NaN                                   NaN   \n",
       "4                                   NaN                                   NaN   \n",
       "\n",
       "  engineTransmission_battery_cc_value_3 engineTransmission_battery_cc_value_4  \\\n",
       "0                                   NaN                                   NaN   \n",
       "1                                   NaN                                   NaN   \n",
       "2                                   NaN                                   NaN   \n",
       "3                                   NaN                                   NaN   \n",
       "4                                   NaN                                   NaN   \n",
       "\n",
       "   ... engineTransmission_gearShifting_cc_value_1  \\\n",
       "0  ...                                        NaN   \n",
       "1  ...                                        NaN   \n",
       "2  ...                                        NaN   \n",
       "3  ...                                        NaN   \n",
       "4  ...                                        NaN   \n",
       "\n",
       "  engineTransmission_gearShifting_cc_value_2  \\\n",
       "0                                        NaN   \n",
       "1                                        NaN   \n",
       "2                                        NaN   \n",
       "3                                        NaN   \n",
       "4                                        NaN   \n",
       "\n",
       "  engineTransmission_comments_value_0  \\\n",
       "0                          Pickup Low   \n",
       "1                                 NaN   \n",
       "2                                 NaN   \n",
       "3                                 NaN   \n",
       "4                                 NaN   \n",
       "\n",
       "       engineTransmission_comments_value_1  \\\n",
       "0  Starter Motor / Solenoid malfunctioning   \n",
       "1                                      NaN   \n",
       "2                                      NaN   \n",
       "3                                      NaN   \n",
       "4                                      NaN   \n",
       "\n",
       "  engineTransmission_comments_value_2 engineTransmission_comments_value_3  \\\n",
       "0                                 NaN                                 NaN   \n",
       "1                                 NaN                                 NaN   \n",
       "2                                 NaN                                 NaN   \n",
       "3                                 NaN                                 NaN   \n",
       "4                                 NaN                                 NaN   \n",
       "\n",
       "  engineTransmission_comments_value_4     fuel_type odometer_reading  \\\n",
       "0                                 NaN  Petrol + CNG         124600.0   \n",
       "1                                 NaN  Petrol + CNG          78108.0   \n",
       "2                                 NaN        Diesel          93348.0   \n",
       "3                                 NaN  Petrol + CNG          48233.0   \n",
       "4                                 NaN  Petrol + CNG          74368.0   \n",
       "\n",
       "  rating_engineTransmission  \n",
       "0                       3.0  \n",
       "1                       4.0  \n",
       "2                       3.5  \n",
       "3                       3.5  \n",
       "4                       4.0  \n",
       "\n",
       "[5 rows x 73 columns]"
      ]
     },
     "execution_count": 4,
     "metadata": {},
     "output_type": "execute_result"
    }
   ],
   "source": [
    "df.head()"
   ]
  },
  {
   "cell_type": "code",
   "execution_count": 5,
   "id": "1045d0a1",
   "metadata": {},
   "outputs": [
    {
     "name": "stdout",
     "output_type": "stream",
     "text": [
      "<class 'pandas.core.frame.DataFrame'>\n",
      "RangeIndex: 26307 entries, 0 to 26306\n",
      "Data columns (total 73 columns):\n",
      " #   Column                                                     Non-Null Count  Dtype  \n",
      "---  ------                                                     --------------  -----  \n",
      " 0   appointmentId                                              26307 non-null  object \n",
      " 1   inspectionStartTime                                        26307 non-null  object \n",
      " 2   year                                                       26307 non-null  float64\n",
      " 3   month                                                      26307 non-null  float64\n",
      " 4   engineTransmission_battery_value                           26307 non-null  object \n",
      " 5   engineTransmission_battery_cc_value_0                      3438 non-null   object \n",
      " 6   engineTransmission_battery_cc_value_1                      430 non-null    object \n",
      " 7   engineTransmission_battery_cc_value_2                      72 non-null     object \n",
      " 8   engineTransmission_battery_cc_value_3                      16 non-null     object \n",
      " 9   engineTransmission_battery_cc_value_4                      4 non-null      object \n",
      " 10  engineTransmission_engineoilLevelDipstick_value            26307 non-null  object \n",
      " 11  engineTransmission_engineOilLevelDipstick_cc_value_0       411 non-null    object \n",
      " 12  engineTransmission_engineOil                               26307 non-null  object \n",
      " 13  engineTransmission_engineOil_cc_value_0                    18557 non-null  object \n",
      " 14  engineTransmission_engineOil_cc_value_1                    11004 non-null  object \n",
      " 15  engineTransmission_engineOil_cc_value_2                    6593 non-null   object \n",
      " 16  engineTransmission_engineOil_cc_value_3                    3742 non-null   object \n",
      " 17  engineTransmission_engineOil_cc_value_4                    1772 non-null   object \n",
      " 18  engineTransmission_engineOil_cc_value_5                    609 non-null    object \n",
      " 19  engineTransmission_engineOil_cc_value_6                    121 non-null    object \n",
      " 20  engineTransmission_engineOil_cc_value_7                    11 non-null     object \n",
      " 21  engineTransmission_engineOil_cc_value_8                    2 non-null      object \n",
      " 22  engineTransmission_engineOil_cc_value_9                    0 non-null      float64\n",
      " 23  engineTransmission_engine_value                            26307 non-null  object \n",
      " 24  engineTransmission_engine_cc_value_0                       9070 non-null   object \n",
      " 25  engineTransmission_engine_cc_value_1                       5084 non-null   object \n",
      " 26  engineTransmission_engine_cc_value_2                       2374 non-null   object \n",
      " 27  engineTransmission_engine_cc_value_3                       904 non-null    object \n",
      " 28  engineTransmission_engine_cc_value_4                       296 non-null    object \n",
      " 29  engineTransmission_engine_cc_value_5                       92 non-null     object \n",
      " 30  engineTransmission_engine_cc_value_6                       37 non-null     object \n",
      " 31  engineTransmission_engine_cc_value_7                       8 non-null      object \n",
      " 32  engineTransmission_engine_cc_value_8                       4 non-null      object \n",
      " 33  engineTransmission_engine_cc_value_9                       3 non-null      object \n",
      " 34  engineTransmission_engine_cc_value_10                      0 non-null      float64\n",
      " 35  engineTransmission_coolant_value                           26307 non-null  object \n",
      " 36  engineTransmission_coolant_cc_value_0                      10036 non-null  object \n",
      " 37  engineTransmission_coolant_cc_value_1                      2363 non-null   object \n",
      " 38  engineTransmission_coolant_cc_value_2                      235 non-null    object \n",
      " 39  engineTransmission_coolant_cc_value_3                      8 non-null      object \n",
      " 40  engineTransmission_engineMounting_value                    26307 non-null  object \n",
      " 41  engineTransmission_engineMounting_cc_value_0               9287 non-null   object \n",
      " 42  engineTransmission_engineSound_value                       26307 non-null  object \n",
      " 43  engineTransmission_engineSound_cc_value_0                  19080 non-null  object \n",
      " 44  engineTransmission_engineSound_cc_value_1                  13505 non-null  object \n",
      " 45  engineTransmission_engineSound_cc_value_2                  6072 non-null   object \n",
      " 46  engineTransmission_engineSound_cc_value_3                  2152 non-null   object \n",
      " 47  engineTransmission_engineSound_cc_value_4                  727 non-null    object \n",
      " 48  engineTransmission_engineSound_cc_value_5                  184 non-null    object \n",
      " 49  engineTransmission_exhaustSmoke_value                      26307 non-null  object \n",
      " 50  engineTransmission_exhaustSmoke_cc_value_0                 5556 non-null   object \n",
      " 51  engineTransmission_engineBlowByBackCompression_value       26307 non-null  object \n",
      " 52  engineTransmission_engineBlowByBackCompression_cc_value_0  26307 non-null  object \n",
      " 53  engineTransmission_clutch_value                            26307 non-null  object \n",
      " 54  engineTransmission_clutch_cc_value_0                       11764 non-null  object \n",
      " 55  engineTransmission_clutch_cc_value_1                       4304 non-null   object \n",
      " 56  engineTransmission_clutch_cc_value_2                       797 non-null    object \n",
      " 57  engineTransmission_clutch_cc_value_3                       159 non-null    object \n",
      " 58  engineTransmission_clutch_cc_value_4                       43 non-null     object \n",
      " 59  engineTransmission_clutch_cc_value_5                       7 non-null      object \n",
      " 60  engineTransmission_clutch_cc_value_6                       1 non-null      object \n",
      " 61  engineTransmission_gearShifting_value                      26307 non-null  object \n",
      " 62  engineTransmission_gearShifting_cc_value_0                 3464 non-null   object \n",
      " 63  engineTransmission_gearShifting_cc_value_1                 771 non-null    object \n",
      " 64  engineTransmission_gearShifting_cc_value_2                 66 non-null     object \n",
      " 65  engineTransmission_comments_value_0                        4066 non-null   object \n",
      " 66  engineTransmission_comments_value_1                        1308 non-null   object \n",
      " 67  engineTransmission_comments_value_2                        390 non-null    object \n",
      " 68  engineTransmission_comments_value_3                        59 non-null     object \n",
      " 69  engineTransmission_comments_value_4                        14 non-null     object \n",
      " 70  fuel_type                                                  26307 non-null  object \n",
      " 71  odometer_reading                                           26307 non-null  float64\n",
      " 72  rating_engineTransmission                                  26307 non-null  float64\n",
      "dtypes: float64(6), object(67)\n",
      "memory usage: 14.7+ MB\n"
     ]
    }
   ],
   "source": [
    "df.info()"
   ]
  },
  {
   "cell_type": "markdown",
   "id": "28a82b03",
   "metadata": {},
   "source": [
    "- numerical columns"
   ]
  },
  {
   "cell_type": "code",
   "execution_count": 72,
   "id": "f78ff04e",
   "metadata": {},
   "outputs": [
    {
     "data": {
      "text/plain": [
       "Index(['year', 'month', 'odometer_reading', 'rating_engineTransmission'], dtype='object')"
      ]
     },
     "execution_count": 72,
     "metadata": {},
     "output_type": "execute_result"
    }
   ],
   "source": [
    "df_num = df.select_dtypes(include = ['float64'])\n",
    "df_num.columns"
   ]
  },
  {
   "cell_type": "markdown",
   "id": "47774757",
   "metadata": {},
   "source": [
    "- correlation"
   ]
  },
  {
   "cell_type": "code",
   "execution_count": 73,
   "id": "6a725291",
   "metadata": {},
   "outputs": [
    {
     "data": {
      "text/plain": [
       "odometer_reading            -0.363514\n",
       "month                        0.113850\n",
       "year                         0.586463\n",
       "rating_engineTransmission    1.000000\n",
       "Name: rating_engineTransmission, dtype: float64"
      ]
     },
     "execution_count": 73,
     "metadata": {},
     "output_type": "execute_result"
    }
   ],
   "source": [
    "df.corr()[\"rating_engineTransmission\"].sort_values()"
   ]
  },
  {
   "cell_type": "code",
   "execution_count": 86,
   "id": "558e7252",
   "metadata": {},
   "outputs": [
    {
     "data": {
      "text/plain": [
       "appointmentId                                                    0\n",
       "inspectionStartTime                                              0\n",
       "year                                                             0\n",
       "month                                                            0\n",
       "engineTransmission_battery_value                                 0\n",
       "engineTransmission_battery_cc_value_0                        22818\n",
       "engineTransmission_battery_cc_value_1                        25814\n",
       "engineTransmission_battery_cc_value_2                        26172\n",
       "engineTransmission_battery_cc_value_3                        26225\n",
       "engineTransmission_battery_cc_value_4                        26237\n",
       "engineTransmission_engineoilLevelDipstick_value                  0\n",
       "engineTransmission_engineOilLevelDipstick_cc_value_0         25831\n",
       "engineTransmission_engineOil                                     0\n",
       "engineTransmission_engineOil_cc_value_0                       7734\n",
       "engineTransmission_engineOil_cc_value_1                      15274\n",
       "engineTransmission_engineOil_cc_value_2                      19673\n",
       "engineTransmission_engineOil_cc_value_3                      22514\n",
       "engineTransmission_engineOil_cc_value_4                      24477\n",
       "engineTransmission_engineOil_cc_value_5                      25636\n",
       "engineTransmission_engineOil_cc_value_6                      26120\n",
       "engineTransmission_engineOil_cc_value_7                      26230\n",
       "engineTransmission_engineOil_cc_value_8                      26239\n",
       "engineTransmission_engineOil_cc_value_9                      26241\n",
       "engineTransmission_engine_value                                  0\n",
       "engineTransmission_engine_cc_value_0                         17205\n",
       "engineTransmission_engine_cc_value_1                         21178\n",
       "engineTransmission_engine_cc_value_2                         23878\n",
       "engineTransmission_engine_cc_value_3                         25339\n",
       "engineTransmission_engine_cc_value_4                         25946\n",
       "engineTransmission_engine_cc_value_5                         26149\n",
       "engineTransmission_engine_cc_value_6                         26204\n",
       "engineTransmission_engine_cc_value_7                         26233\n",
       "engineTransmission_engine_cc_value_8                         26237\n",
       "engineTransmission_engine_cc_value_9                         26238\n",
       "engineTransmission_engine_cc_value_10                        26241\n",
       "engineTransmission_coolant_value                                 0\n",
       "engineTransmission_coolant_cc_value_0                        16236\n",
       "engineTransmission_coolant_cc_value_1                        23888\n",
       "engineTransmission_coolant_cc_value_2                        26008\n",
       "engineTransmission_coolant_cc_value_3                        26233\n",
       "engineTransmission_engineMounting_value                          0\n",
       "engineTransmission_engineMounting_cc_value_0                 16984\n",
       "engineTransmission_engineSound_value                             0\n",
       "engineTransmission_engineSound_cc_value_0                     7211\n",
       "engineTransmission_engineSound_cc_value_1                    12775\n",
       "engineTransmission_engineSound_cc_value_2                    20186\n",
       "engineTransmission_engineSound_cc_value_3                    24097\n",
       "engineTransmission_engineSound_cc_value_4                    25515\n",
       "engineTransmission_engineSound_cc_value_5                    26057\n",
       "engineTransmission_exhaustSmoke_value                            0\n",
       "engineTransmission_exhaustSmoke_cc_value_0                   20709\n",
       "engineTransmission_engineBlowByBackCompression_value             0\n",
       "engineTransmission_engineBlowByBackCompression_cc_value_0        0\n",
       "engineTransmission_clutch_value                                  0\n",
       "engineTransmission_clutch_cc_value_0                         14511\n",
       "engineTransmission_clutch_cc_value_1                         21951\n",
       "engineTransmission_clutch_cc_value_2                         25450\n",
       "engineTransmission_clutch_cc_value_3                         26083\n",
       "engineTransmission_clutch_cc_value_4                         26198\n",
       "engineTransmission_clutch_cc_value_5                         26234\n",
       "engineTransmission_clutch_cc_value_6                         26240\n",
       "engineTransmission_gearShifting_value                            0\n",
       "engineTransmission_gearShifting_cc_value_0                   22790\n",
       "engineTransmission_gearShifting_cc_value_1                   25475\n",
       "engineTransmission_gearShifting_cc_value_2                   26177\n",
       "engineTransmission_comments_value_0                          22195\n",
       "engineTransmission_comments_value_1                          24946\n",
       "engineTransmission_comments_value_2                          25857\n",
       "engineTransmission_comments_value_3                          26182\n",
       "engineTransmission_comments_value_4                          26227\n",
       "fuel_type                                                        0\n",
       "odometer_reading                                                 0\n",
       "rating_engineTransmission                                        0\n",
       "dtype: int64"
      ]
     },
     "execution_count": 86,
     "metadata": {},
     "output_type": "execute_result"
    }
   ],
   "source": [
    "pd.set_option('display.max_rows', 73)\n",
    "df.isnull().sum()"
   ]
  },
  {
   "cell_type": "code",
   "execution_count": null,
   "id": "7acc4b8e",
   "metadata": {},
   "outputs": [],
   "source": [
    "def fun(f):\n",
    "    if "
   ]
  },
  {
   "cell_type": "markdown",
   "id": "6a7352d0",
   "metadata": {},
   "source": [
    "- remoove column who's null value is greater then 80%"
   ]
  },
  {
   "cell_type": "code",
   "execution_count": 21,
   "id": "3cf781ec",
   "metadata": {},
   "outputs": [],
   "source": [
    "df=df[df.columns[df.isnull().mean()< 0.80]]"
   ]
  },
  {
   "cell_type": "code",
   "execution_count": 22,
   "id": "c2d77386",
   "metadata": {},
   "outputs": [
    {
     "data": {
      "text/plain": [
       "(26307, 30)"
      ]
     },
     "execution_count": 22,
     "metadata": {},
     "output_type": "execute_result"
    }
   ],
   "source": [
    "df.shape"
   ]
  },
  {
   "cell_type": "code",
   "execution_count": 23,
   "id": "3b661417",
   "metadata": {},
   "outputs": [
    {
     "name": "stdout",
     "output_type": "stream",
     "text": [
      "<class 'pandas.core.frame.DataFrame'>\n",
      "RangeIndex: 26307 entries, 0 to 26306\n",
      "Data columns (total 30 columns):\n",
      " #   Column                                                     Non-Null Count  Dtype  \n",
      "---  ------                                                     --------------  -----  \n",
      " 0   appointmentId                                              26307 non-null  object \n",
      " 1   inspectionStartTime                                        26307 non-null  object \n",
      " 2   year                                                       26307 non-null  float64\n",
      " 3   month                                                      26307 non-null  float64\n",
      " 4   engineTransmission_battery_value                           26307 non-null  object \n",
      " 5   engineTransmission_engineoilLevelDipstick_value            26307 non-null  object \n",
      " 6   engineTransmission_engineOil                               26307 non-null  object \n",
      " 7   engineTransmission_engineOil_cc_value_0                    18557 non-null  object \n",
      " 8   engineTransmission_engineOil_cc_value_1                    11004 non-null  object \n",
      " 9   engineTransmission_engineOil_cc_value_2                    6593 non-null   object \n",
      " 10  engineTransmission_engine_value                            26307 non-null  object \n",
      " 11  engineTransmission_engine_cc_value_0                       9070 non-null   object \n",
      " 12  engineTransmission_coolant_value                           26307 non-null  object \n",
      " 13  engineTransmission_coolant_cc_value_0                      10036 non-null  object \n",
      " 14  engineTransmission_engineMounting_value                    26307 non-null  object \n",
      " 15  engineTransmission_engineMounting_cc_value_0               9287 non-null   object \n",
      " 16  engineTransmission_engineSound_value                       26307 non-null  object \n",
      " 17  engineTransmission_engineSound_cc_value_0                  19080 non-null  object \n",
      " 18  engineTransmission_engineSound_cc_value_1                  13505 non-null  object \n",
      " 19  engineTransmission_engineSound_cc_value_2                  6072 non-null   object \n",
      " 20  engineTransmission_exhaustSmoke_value                      26307 non-null  object \n",
      " 21  engineTransmission_exhaustSmoke_cc_value_0                 5556 non-null   object \n",
      " 22  engineTransmission_engineBlowByBackCompression_value       26307 non-null  object \n",
      " 23  engineTransmission_engineBlowByBackCompression_cc_value_0  26307 non-null  object \n",
      " 24  engineTransmission_clutch_value                            26307 non-null  object \n",
      " 25  engineTransmission_clutch_cc_value_0                       11764 non-null  object \n",
      " 26  engineTransmission_gearShifting_value                      26307 non-null  object \n",
      " 27  fuel_type                                                  26307 non-null  object \n",
      " 28  odometer_reading                                           26307 non-null  float64\n",
      " 29  rating_engineTransmission                                  26307 non-null  float64\n",
      "dtypes: float64(4), object(26)\n",
      "memory usage: 6.0+ MB\n"
     ]
    }
   ],
   "source": [
    "df.info()"
   ]
  },
  {
   "cell_type": "markdown",
   "id": "cb1bfda6",
   "metadata": {},
   "source": [
    "- fill null value with yes as mentions in dataset"
   ]
  },
  {
   "cell_type": "code",
   "execution_count": 39,
   "id": "d35348ea",
   "metadata": {},
   "outputs": [],
   "source": [
    "k =df.fillna(\"Yes\")"
   ]
  },
  {
   "cell_type": "code",
   "execution_count": 24,
   "id": "96fbd080",
   "metadata": {},
   "outputs": [
    {
     "data": {
      "text/html": [
       "<div>\n",
       "<style scoped>\n",
       "    .dataframe tbody tr th:only-of-type {\n",
       "        vertical-align: middle;\n",
       "    }\n",
       "\n",
       "    .dataframe tbody tr th {\n",
       "        vertical-align: top;\n",
       "    }\n",
       "\n",
       "    .dataframe thead th {\n",
       "        text-align: right;\n",
       "    }\n",
       "</style>\n",
       "<table border=\"1\" class=\"dataframe\">\n",
       "  <thead>\n",
       "    <tr style=\"text-align: right;\">\n",
       "      <th></th>\n",
       "      <th>appointmentId</th>\n",
       "      <th>inspectionStartTime</th>\n",
       "      <th>year</th>\n",
       "      <th>month</th>\n",
       "      <th>engineTransmission_battery_value</th>\n",
       "      <th>engineTransmission_engineoilLevelDipstick_value</th>\n",
       "      <th>engineTransmission_engineOil</th>\n",
       "      <th>engineTransmission_engineOil_cc_value_0</th>\n",
       "      <th>engineTransmission_engineOil_cc_value_1</th>\n",
       "      <th>engineTransmission_engineOil_cc_value_2</th>\n",
       "      <th>...</th>\n",
       "      <th>engineTransmission_exhaustSmoke_value</th>\n",
       "      <th>engineTransmission_exhaustSmoke_cc_value_0</th>\n",
       "      <th>engineTransmission_engineBlowByBackCompression_value</th>\n",
       "      <th>engineTransmission_engineBlowByBackCompression_cc_value_0</th>\n",
       "      <th>engineTransmission_clutch_value</th>\n",
       "      <th>engineTransmission_clutch_cc_value_0</th>\n",
       "      <th>engineTransmission_gearShifting_value</th>\n",
       "      <th>fuel_type</th>\n",
       "      <th>odometer_reading</th>\n",
       "      <th>rating_engineTransmission</th>\n",
       "    </tr>\n",
       "  </thead>\n",
       "  <tbody>\n",
       "    <tr>\n",
       "      <th>0</th>\n",
       "      <td>aj_01</td>\n",
       "      <td>2019-03-02 15:43:00</td>\n",
       "      <td>2008.0</td>\n",
       "      <td>8.0</td>\n",
       "      <td>No</td>\n",
       "      <td>Yes</td>\n",
       "      <td>No</td>\n",
       "      <td>Leaking</td>\n",
       "      <td>Dirty</td>\n",
       "      <td>Leakage from Tappet Cover</td>\n",
       "      <td>...</td>\n",
       "      <td>No</td>\n",
       "      <td>White</td>\n",
       "      <td>No</td>\n",
       "      <td>Back Compression Exist</td>\n",
       "      <td>No</td>\n",
       "      <td>Spongy</td>\n",
       "      <td>Yes</td>\n",
       "      <td>Petrol + CNG</td>\n",
       "      <td>124600.0</td>\n",
       "      <td>3.0</td>\n",
       "    </tr>\n",
       "    <tr>\n",
       "      <th>1</th>\n",
       "      <td>aj_02</td>\n",
       "      <td>1/16/19 13:02</td>\n",
       "      <td>2007.0</td>\n",
       "      <td>5.0</td>\n",
       "      <td>Yes</td>\n",
       "      <td>Yes</td>\n",
       "      <td>No</td>\n",
       "      <td>Leaking</td>\n",
       "      <td>Dirty</td>\n",
       "      <td>Leakage from Tappet Cover</td>\n",
       "      <td>...</td>\n",
       "      <td>No</td>\n",
       "      <td>Noise from silencer assembly</td>\n",
       "      <td>Yes</td>\n",
       "      <td>NO Blow-by</td>\n",
       "      <td>Yes</td>\n",
       "      <td>NaN</td>\n",
       "      <td>Yes</td>\n",
       "      <td>Petrol + CNG</td>\n",
       "      <td>78108.0</td>\n",
       "      <td>4.0</td>\n",
       "    </tr>\n",
       "    <tr>\n",
       "      <th>2</th>\n",
       "      <td>aj_03</td>\n",
       "      <td>2019-09-02 13:31:00</td>\n",
       "      <td>2012.0</td>\n",
       "      <td>5.0</td>\n",
       "      <td>Yes</td>\n",
       "      <td>Yes</td>\n",
       "      <td>No</td>\n",
       "      <td>Dirty</td>\n",
       "      <td>NaN</td>\n",
       "      <td>NaN</td>\n",
       "      <td>...</td>\n",
       "      <td>No</td>\n",
       "      <td>Black</td>\n",
       "      <td>Yes</td>\n",
       "      <td>Perm. Blow By on idle</td>\n",
       "      <td>No</td>\n",
       "      <td>Hard</td>\n",
       "      <td>Yes</td>\n",
       "      <td>Diesel</td>\n",
       "      <td>93348.0</td>\n",
       "      <td>3.5</td>\n",
       "    </tr>\n",
       "    <tr>\n",
       "      <th>3</th>\n",
       "      <td>aj_04</td>\n",
       "      <td>1/18/19 11:02</td>\n",
       "      <td>2013.0</td>\n",
       "      <td>1.0</td>\n",
       "      <td>Yes</td>\n",
       "      <td>Yes</td>\n",
       "      <td>No</td>\n",
       "      <td>Dirty</td>\n",
       "      <td>NaN</td>\n",
       "      <td>NaN</td>\n",
       "      <td>...</td>\n",
       "      <td>Yes</td>\n",
       "      <td>NaN</td>\n",
       "      <td>Yes</td>\n",
       "      <td>NO Blow-by</td>\n",
       "      <td>No</td>\n",
       "      <td>Hard</td>\n",
       "      <td>Yes</td>\n",
       "      <td>Petrol + CNG</td>\n",
       "      <td>48233.0</td>\n",
       "      <td>3.5</td>\n",
       "    </tr>\n",
       "    <tr>\n",
       "      <th>4</th>\n",
       "      <td>aj_05</td>\n",
       "      <td>1/27/19 12:12</td>\n",
       "      <td>2011.0</td>\n",
       "      <td>7.0</td>\n",
       "      <td>Yes</td>\n",
       "      <td>Yes</td>\n",
       "      <td>No</td>\n",
       "      <td>Leaking</td>\n",
       "      <td>Leakage from Tappet Cover</td>\n",
       "      <td>NaN</td>\n",
       "      <td>...</td>\n",
       "      <td>No</td>\n",
       "      <td>White</td>\n",
       "      <td>Yes</td>\n",
       "      <td>NO Blow-by</td>\n",
       "      <td>No</td>\n",
       "      <td>Spongy</td>\n",
       "      <td>Yes</td>\n",
       "      <td>Petrol + CNG</td>\n",
       "      <td>74368.0</td>\n",
       "      <td>4.0</td>\n",
       "    </tr>\n",
       "  </tbody>\n",
       "</table>\n",
       "<p>5 rows × 30 columns</p>\n",
       "</div>"
      ],
      "text/plain": [
       "  appointmentId  inspectionStartTime    year  month  \\\n",
       "0         aj_01  2019-03-02 15:43:00  2008.0    8.0   \n",
       "1         aj_02        1/16/19 13:02  2007.0    5.0   \n",
       "2         aj_03  2019-09-02 13:31:00  2012.0    5.0   \n",
       "3         aj_04        1/18/19 11:02  2013.0    1.0   \n",
       "4         aj_05        1/27/19 12:12  2011.0    7.0   \n",
       "\n",
       "  engineTransmission_battery_value  \\\n",
       "0                               No   \n",
       "1                              Yes   \n",
       "2                              Yes   \n",
       "3                              Yes   \n",
       "4                              Yes   \n",
       "\n",
       "  engineTransmission_engineoilLevelDipstick_value  \\\n",
       "0                                             Yes   \n",
       "1                                             Yes   \n",
       "2                                             Yes   \n",
       "3                                             Yes   \n",
       "4                                             Yes   \n",
       "\n",
       "  engineTransmission_engineOil engineTransmission_engineOil_cc_value_0  \\\n",
       "0                           No                                 Leaking   \n",
       "1                           No                                 Leaking   \n",
       "2                           No                                   Dirty   \n",
       "3                           No                                   Dirty   \n",
       "4                           No                                 Leaking   \n",
       "\n",
       "  engineTransmission_engineOil_cc_value_1  \\\n",
       "0                                   Dirty   \n",
       "1                                   Dirty   \n",
       "2                                     NaN   \n",
       "3                                     NaN   \n",
       "4               Leakage from Tappet Cover   \n",
       "\n",
       "  engineTransmission_engineOil_cc_value_2  ...  \\\n",
       "0               Leakage from Tappet Cover  ...   \n",
       "1               Leakage from Tappet Cover  ...   \n",
       "2                                     NaN  ...   \n",
       "3                                     NaN  ...   \n",
       "4                                     NaN  ...   \n",
       "\n",
       "  engineTransmission_exhaustSmoke_value  \\\n",
       "0                                    No   \n",
       "1                                    No   \n",
       "2                                    No   \n",
       "3                                   Yes   \n",
       "4                                    No   \n",
       "\n",
       "  engineTransmission_exhaustSmoke_cc_value_0  \\\n",
       "0                                      White   \n",
       "1               Noise from silencer assembly   \n",
       "2                                      Black   \n",
       "3                                        NaN   \n",
       "4                                      White   \n",
       "\n",
       "  engineTransmission_engineBlowByBackCompression_value  \\\n",
       "0                                                 No     \n",
       "1                                                Yes     \n",
       "2                                                Yes     \n",
       "3                                                Yes     \n",
       "4                                                Yes     \n",
       "\n",
       "  engineTransmission_engineBlowByBackCompression_cc_value_0  \\\n",
       "0                             Back Compression Exist          \n",
       "1                                         NO Blow-by          \n",
       "2                              Perm. Blow By on idle          \n",
       "3                                         NO Blow-by          \n",
       "4                                         NO Blow-by          \n",
       "\n",
       "  engineTransmission_clutch_value engineTransmission_clutch_cc_value_0  \\\n",
       "0                              No                               Spongy   \n",
       "1                             Yes                                  NaN   \n",
       "2                              No                                 Hard   \n",
       "3                              No                                 Hard   \n",
       "4                              No                               Spongy   \n",
       "\n",
       "  engineTransmission_gearShifting_value     fuel_type odometer_reading  \\\n",
       "0                                   Yes  Petrol + CNG         124600.0   \n",
       "1                                   Yes  Petrol + CNG          78108.0   \n",
       "2                                   Yes        Diesel          93348.0   \n",
       "3                                   Yes  Petrol + CNG          48233.0   \n",
       "4                                   Yes  Petrol + CNG          74368.0   \n",
       "\n",
       "  rating_engineTransmission  \n",
       "0                       3.0  \n",
       "1                       4.0  \n",
       "2                       3.5  \n",
       "3                       3.5  \n",
       "4                       4.0  \n",
       "\n",
       "[5 rows x 30 columns]"
      ]
     },
     "execution_count": 24,
     "metadata": {},
     "output_type": "execute_result"
    }
   ],
   "source": [
    "df.head()"
   ]
  },
  {
   "cell_type": "code",
   "execution_count": 25,
   "id": "008a8ce1",
   "metadata": {},
   "outputs": [
    {
     "data": {
      "text/plain": [
       "(26307, 30)"
      ]
     },
     "execution_count": 25,
     "metadata": {},
     "output_type": "execute_result"
    }
   ],
   "source": [
    "df.shape"
   ]
  },
  {
   "cell_type": "markdown",
   "id": "75ea591f",
   "metadata": {},
   "source": [
    "- remove outliesrs"
   ]
  },
  {
   "cell_type": "code",
   "execution_count": 26,
   "id": "89126bac",
   "metadata": {
    "scrolled": true
   },
   "outputs": [],
   "source": [
    "df=df.drop(df[(df[\"fuel_type\"]==\"Hybrid\")].index)\n",
    "df=df.drop(df[(df[\"fuel_type\"]==\"Electric\")].index)\n",
    "df=df.drop(df[(df[\"fuel_type\"]==\"Petrol + LPG\")].index)"
   ]
  },
  {
   "cell_type": "code",
   "execution_count": 27,
   "id": "2954791f",
   "metadata": {},
   "outputs": [
    {
     "data": {
      "text/plain": [
       "Petrol          10719\n",
       "Diesel           9895\n",
       "Petrol + CNG     5627\n",
       "Name: fuel_type, dtype: int64"
      ]
     },
     "execution_count": 27,
     "metadata": {},
     "output_type": "execute_result"
    }
   ],
   "source": [
    "df.fuel_type.value_counts()"
   ]
  },
  {
   "cell_type": "code",
   "execution_count": 28,
   "id": "16ae2b81",
   "metadata": {},
   "outputs": [],
   "source": [
    "categorical_columns = df.select_dtypes('O').columns\n",
    "continuous_columns = [cols for cols in df.columns if cols not in categorical_columns]"
   ]
  },
  {
   "cell_type": "code",
   "execution_count": 29,
   "id": "4002f2f3",
   "metadata": {},
   "outputs": [
    {
     "data": {
      "text/plain": [
       "26"
      ]
     },
     "execution_count": 29,
     "metadata": {},
     "output_type": "execute_result"
    }
   ],
   "source": [
    "len(categorical_columns)"
   ]
  },
  {
   "cell_type": "code",
   "execution_count": 30,
   "id": "49282ee6",
   "metadata": {},
   "outputs": [
    {
     "data": {
      "text/plain": [
       "4"
      ]
     },
     "execution_count": 30,
     "metadata": {},
     "output_type": "execute_result"
    }
   ],
   "source": [
    "len(continuous_columns)"
   ]
  },
  {
   "cell_type": "code",
   "execution_count": 31,
   "id": "a6bd0eca",
   "metadata": {},
   "outputs": [
    {
     "data": {
      "text/plain": [
       "['year', 'month', 'odometer_reading', 'rating_engineTransmission']"
      ]
     },
     "execution_count": 31,
     "metadata": {},
     "output_type": "execute_result"
    }
   ],
   "source": [
    "continuous_columns\n"
   ]
  },
  {
   "cell_type": "code",
   "execution_count": 32,
   "id": "3b0da75c",
   "metadata": {},
   "outputs": [
    {
     "data": {
      "text/html": [
       "<div>\n",
       "<style scoped>\n",
       "    .dataframe tbody tr th:only-of-type {\n",
       "        vertical-align: middle;\n",
       "    }\n",
       "\n",
       "    .dataframe tbody tr th {\n",
       "        vertical-align: top;\n",
       "    }\n",
       "\n",
       "    .dataframe thead th {\n",
       "        text-align: right;\n",
       "    }\n",
       "</style>\n",
       "<table border=\"1\" class=\"dataframe\">\n",
       "  <thead>\n",
       "    <tr style=\"text-align: right;\">\n",
       "      <th></th>\n",
       "      <th>year</th>\n",
       "      <th>month</th>\n",
       "      <th>odometer_reading</th>\n",
       "      <th>rating_engineTransmission</th>\n",
       "    </tr>\n",
       "  </thead>\n",
       "  <tbody>\n",
       "    <tr>\n",
       "      <th>count</th>\n",
       "      <td>26241.000000</td>\n",
       "      <td>26241.000000</td>\n",
       "      <td>26241.000000</td>\n",
       "      <td>26241.000000</td>\n",
       "    </tr>\n",
       "    <tr>\n",
       "      <th>mean</th>\n",
       "      <td>2010.863344</td>\n",
       "      <td>5.463740</td>\n",
       "      <td>76465.567890</td>\n",
       "      <td>3.625091</td>\n",
       "    </tr>\n",
       "    <tr>\n",
       "      <th>std</th>\n",
       "      <td>3.762894</td>\n",
       "      <td>3.583997</td>\n",
       "      <td>46764.554654</td>\n",
       "      <td>0.847558</td>\n",
       "    </tr>\n",
       "    <tr>\n",
       "      <th>min</th>\n",
       "      <td>1989.000000</td>\n",
       "      <td>1.000000</td>\n",
       "      <td>1.000000</td>\n",
       "      <td>0.500000</td>\n",
       "    </tr>\n",
       "    <tr>\n",
       "      <th>25%</th>\n",
       "      <td>2008.000000</td>\n",
       "      <td>2.000000</td>\n",
       "      <td>46425.000000</td>\n",
       "      <td>3.500000</td>\n",
       "    </tr>\n",
       "    <tr>\n",
       "      <th>50%</th>\n",
       "      <td>2011.000000</td>\n",
       "      <td>5.000000</td>\n",
       "      <td>72027.000000</td>\n",
       "      <td>4.000000</td>\n",
       "    </tr>\n",
       "    <tr>\n",
       "      <th>75%</th>\n",
       "      <td>2014.000000</td>\n",
       "      <td>9.000000</td>\n",
       "      <td>98271.000000</td>\n",
       "      <td>4.000000</td>\n",
       "    </tr>\n",
       "    <tr>\n",
       "      <th>max</th>\n",
       "      <td>2019.000000</td>\n",
       "      <td>12.000000</td>\n",
       "      <td>999999.000000</td>\n",
       "      <td>5.000000</td>\n",
       "    </tr>\n",
       "  </tbody>\n",
       "</table>\n",
       "</div>"
      ],
      "text/plain": [
       "               year         month  odometer_reading  rating_engineTransmission\n",
       "count  26241.000000  26241.000000      26241.000000               26241.000000\n",
       "mean    2010.863344      5.463740      76465.567890                   3.625091\n",
       "std        3.762894      3.583997      46764.554654                   0.847558\n",
       "min     1989.000000      1.000000          1.000000                   0.500000\n",
       "25%     2008.000000      2.000000      46425.000000                   3.500000\n",
       "50%     2011.000000      5.000000      72027.000000                   4.000000\n",
       "75%     2014.000000      9.000000      98271.000000                   4.000000\n",
       "max     2019.000000     12.000000     999999.000000                   5.000000"
      ]
     },
     "execution_count": 32,
     "metadata": {},
     "output_type": "execute_result"
    }
   ],
   "source": [
    "df.describe()"
   ]
  },
  {
   "cell_type": "markdown",
   "id": "848e43ea",
   "metadata": {},
   "source": [
    "-  graphs ,visualization"
   ]
  },
  {
   "cell_type": "code",
   "execution_count": 33,
   "id": "6e46163b",
   "metadata": {},
   "outputs": [
    {
     "name": "stderr",
     "output_type": "stream",
     "text": [
      "C:\\Users\\Dell\\Downloads\\python\\New folder\\lib\\site-packages\\seaborn\\_decorators.py:36: FutureWarning: Pass the following variable as a keyword arg: x. From version 0.12, the only valid positional argument will be `data`, and passing other arguments without an explicit keyword will result in an error or misinterpretation.\n",
      "  warnings.warn(\n"
     ]
    },
    {
     "data": {
      "image/png": "[encoded data removed]",
      "text/plain": [
       "<Figure size 864x288 with 2 Axes>"
      ]
     },
     "metadata": {
      "needs_background": "light"
     },
     "output_type": "display_data"
    }
   ],
   "source": [
    "fig, ax = plt.subplots(1, 2, figsize=(12, 4))\n",
    "sns.boxplot(df['odometer_reading'], ax=ax[0])\n",
    "sns.histplot(df['odometer_reading'], kde=True, ax=ax[1])\n",
    "plt.show()"
   ]
  },
  {
   "cell_type": "code",
   "execution_count": 34,
   "id": "b556fce0",
   "metadata": {},
   "outputs": [
    {
     "data": {
      "image/png": "[encoded data removed]",
      "text/plain": [
       "<Figure size 432x288 with 1 Axes>"
      ]
     },
     "metadata": {
      "needs_background": "light"
     },
     "output_type": "display_data"
    }
   ],
   "source": [
    "sns.histplot(data=df, x='rating_engineTransmission', bins=10, kde=True)\n",
    "plt.show()"
   ]
  },
  {
   "cell_type": "code",
   "execution_count": 35,
   "id": "bec7498a",
   "metadata": {},
   "outputs": [
    {
     "data": {
      "text/plain": [
       "4.0    10131\n",
       "3.5     5932\n",
       "3.0     4361\n",
       "4.5     2203\n",
       "5.0     1621\n",
       "1.0     1452\n",
       "2.5      418\n",
       "2.0      116\n",
       "1.5        6\n",
       "0.5        1\n",
       "Name: rating_engineTransmission, dtype: int64"
      ]
     },
     "execution_count": 35,
     "metadata": {},
     "output_type": "execute_result"
    }
   ],
   "source": [
    "df['rating_engineTransmission'].value_counts() "
   ]
  },
  {
   "cell_type": "code",
   "execution_count": 36,
   "id": "b1a40232",
   "metadata": {},
   "outputs": [],
   "source": [
    "df.drop(['appointmentId', 'inspectionStartTime', ], axis=1, inplace=True)"
   ]
  },
  {
   "cell_type": "code",
   "execution_count": 37,
   "id": "79461a54",
   "metadata": {},
   "outputs": [
    {
     "data": {
      "text/html": [
       "<div>\n",
       "<style scoped>\n",
       "    .dataframe tbody tr th:only-of-type {\n",
       "        vertical-align: middle;\n",
       "    }\n",
       "\n",
       "    .dataframe tbody tr th {\n",
       "        vertical-align: top;\n",
       "    }\n",
       "\n",
       "    .dataframe thead th {\n",
       "        text-align: right;\n",
       "    }\n",
       "</style>\n",
       "<table border=\"1\" class=\"dataframe\">\n",
       "  <thead>\n",
       "    <tr style=\"text-align: right;\">\n",
       "      <th></th>\n",
       "      <th>year</th>\n",
       "      <th>month</th>\n",
       "      <th>engineTransmission_battery_value</th>\n",
       "      <th>engineTransmission_engineoilLevelDipstick_value</th>\n",
       "      <th>engineTransmission_engineOil</th>\n",
       "      <th>engineTransmission_engineOil_cc_value_0</th>\n",
       "      <th>engineTransmission_engineOil_cc_value_1</th>\n",
       "      <th>engineTransmission_engineOil_cc_value_2</th>\n",
       "      <th>engineTransmission_engine_value</th>\n",
       "      <th>engineTransmission_engine_cc_value_0</th>\n",
       "      <th>...</th>\n",
       "      <th>engineTransmission_exhaustSmoke_value</th>\n",
       "      <th>engineTransmission_exhaustSmoke_cc_value_0</th>\n",
       "      <th>engineTransmission_engineBlowByBackCompression_value</th>\n",
       "      <th>engineTransmission_engineBlowByBackCompression_cc_value_0</th>\n",
       "      <th>engineTransmission_clutch_value</th>\n",
       "      <th>engineTransmission_clutch_cc_value_0</th>\n",
       "      <th>engineTransmission_gearShifting_value</th>\n",
       "      <th>fuel_type</th>\n",
       "      <th>odometer_reading</th>\n",
       "      <th>rating_engineTransmission</th>\n",
       "    </tr>\n",
       "  </thead>\n",
       "  <tbody>\n",
       "    <tr>\n",
       "      <th>0</th>\n",
       "      <td>2008.0</td>\n",
       "      <td>8.0</td>\n",
       "      <td>No</td>\n",
       "      <td>Yes</td>\n",
       "      <td>No</td>\n",
       "      <td>Leaking</td>\n",
       "      <td>Dirty</td>\n",
       "      <td>Leakage from Tappet Cover</td>\n",
       "      <td>No</td>\n",
       "      <td>Repaired</td>\n",
       "      <td>...</td>\n",
       "      <td>No</td>\n",
       "      <td>White</td>\n",
       "      <td>No</td>\n",
       "      <td>Back Compression Exist</td>\n",
       "      <td>No</td>\n",
       "      <td>Spongy</td>\n",
       "      <td>Yes</td>\n",
       "      <td>Petrol + CNG</td>\n",
       "      <td>124600.0</td>\n",
       "      <td>3.0</td>\n",
       "    </tr>\n",
       "    <tr>\n",
       "      <th>1</th>\n",
       "      <td>2007.0</td>\n",
       "      <td>5.0</td>\n",
       "      <td>Yes</td>\n",
       "      <td>Yes</td>\n",
       "      <td>No</td>\n",
       "      <td>Leaking</td>\n",
       "      <td>Dirty</td>\n",
       "      <td>Leakage from Tappet Cover</td>\n",
       "      <td>No</td>\n",
       "      <td>RPM fluctuating</td>\n",
       "      <td>...</td>\n",
       "      <td>No</td>\n",
       "      <td>Noise from silencer assembly</td>\n",
       "      <td>Yes</td>\n",
       "      <td>NO Blow-by</td>\n",
       "      <td>Yes</td>\n",
       "      <td>NaN</td>\n",
       "      <td>Yes</td>\n",
       "      <td>Petrol + CNG</td>\n",
       "      <td>78108.0</td>\n",
       "      <td>4.0</td>\n",
       "    </tr>\n",
       "    <tr>\n",
       "      <th>2</th>\n",
       "      <td>2012.0</td>\n",
       "      <td>5.0</td>\n",
       "      <td>Yes</td>\n",
       "      <td>Yes</td>\n",
       "      <td>No</td>\n",
       "      <td>Dirty</td>\n",
       "      <td>NaN</td>\n",
       "      <td>NaN</td>\n",
       "      <td>Yes</td>\n",
       "      <td>NaN</td>\n",
       "      <td>...</td>\n",
       "      <td>No</td>\n",
       "      <td>Black</td>\n",
       "      <td>Yes</td>\n",
       "      <td>Perm. Blow By on idle</td>\n",
       "      <td>No</td>\n",
       "      <td>Hard</td>\n",
       "      <td>Yes</td>\n",
       "      <td>Diesel</td>\n",
       "      <td>93348.0</td>\n",
       "      <td>3.5</td>\n",
       "    </tr>\n",
       "    <tr>\n",
       "      <th>3</th>\n",
       "      <td>2013.0</td>\n",
       "      <td>1.0</td>\n",
       "      <td>Yes</td>\n",
       "      <td>Yes</td>\n",
       "      <td>No</td>\n",
       "      <td>Dirty</td>\n",
       "      <td>NaN</td>\n",
       "      <td>NaN</td>\n",
       "      <td>Yes</td>\n",
       "      <td>NaN</td>\n",
       "      <td>...</td>\n",
       "      <td>Yes</td>\n",
       "      <td>NaN</td>\n",
       "      <td>Yes</td>\n",
       "      <td>NO Blow-by</td>\n",
       "      <td>No</td>\n",
       "      <td>Hard</td>\n",
       "      <td>Yes</td>\n",
       "      <td>Petrol + CNG</td>\n",
       "      <td>48233.0</td>\n",
       "      <td>3.5</td>\n",
       "    </tr>\n",
       "    <tr>\n",
       "      <th>4</th>\n",
       "      <td>2011.0</td>\n",
       "      <td>7.0</td>\n",
       "      <td>Yes</td>\n",
       "      <td>Yes</td>\n",
       "      <td>No</td>\n",
       "      <td>Leaking</td>\n",
       "      <td>Leakage from Tappet Cover</td>\n",
       "      <td>NaN</td>\n",
       "      <td>No</td>\n",
       "      <td>RPM fluctuating</td>\n",
       "      <td>...</td>\n",
       "      <td>No</td>\n",
       "      <td>White</td>\n",
       "      <td>Yes</td>\n",
       "      <td>NO Blow-by</td>\n",
       "      <td>No</td>\n",
       "      <td>Spongy</td>\n",
       "      <td>Yes</td>\n",
       "      <td>Petrol + CNG</td>\n",
       "      <td>74368.0</td>\n",
       "      <td>4.0</td>\n",
       "    </tr>\n",
       "  </tbody>\n",
       "</table>\n",
       "<p>5 rows × 28 columns</p>\n",
       "</div>"
      ],
      "text/plain": [
       "     year  month engineTransmission_battery_value  \\\n",
       "0  2008.0    8.0                               No   \n",
       "1  2007.0    5.0                              Yes   \n",
       "2  2012.0    5.0                              Yes   \n",
       "3  2013.0    1.0                              Yes   \n",
       "4  2011.0    7.0                              Yes   \n",
       "\n",
       "  engineTransmission_engineoilLevelDipstick_value  \\\n",
       "0                                             Yes   \n",
       "1                                             Yes   \n",
       "2                                             Yes   \n",
       "3                                             Yes   \n",
       "4                                             Yes   \n",
       "\n",
       "  engineTransmission_engineOil engineTransmission_engineOil_cc_value_0  \\\n",
       "0                           No                                 Leaking   \n",
       "1                           No                                 Leaking   \n",
       "2                           No                                   Dirty   \n",
       "3                           No                                   Dirty   \n",
       "4                           No                                 Leaking   \n",
       "\n",
       "  engineTransmission_engineOil_cc_value_1  \\\n",
       "0                                   Dirty   \n",
       "1                                   Dirty   \n",
       "2                                     NaN   \n",
       "3                                     NaN   \n",
       "4               Leakage from Tappet Cover   \n",
       "\n",
       "  engineTransmission_engineOil_cc_value_2 engineTransmission_engine_value  \\\n",
       "0               Leakage from Tappet Cover                              No   \n",
       "1               Leakage from Tappet Cover                              No   \n",
       "2                                     NaN                             Yes   \n",
       "3                                     NaN                             Yes   \n",
       "4                                     NaN                              No   \n",
       "\n",
       "  engineTransmission_engine_cc_value_0  ...  \\\n",
       "0                             Repaired  ...   \n",
       "1                      RPM fluctuating  ...   \n",
       "2                                  NaN  ...   \n",
       "3                                  NaN  ...   \n",
       "4                      RPM fluctuating  ...   \n",
       "\n",
       "  engineTransmission_exhaustSmoke_value  \\\n",
       "0                                    No   \n",
       "1                                    No   \n",
       "2                                    No   \n",
       "3                                   Yes   \n",
       "4                                    No   \n",
       "\n",
       "  engineTransmission_exhaustSmoke_cc_value_0  \\\n",
       "0                                      White   \n",
       "1               Noise from silencer assembly   \n",
       "2                                      Black   \n",
       "3                                        NaN   \n",
       "4                                      White   \n",
       "\n",
       "  engineTransmission_engineBlowByBackCompression_value  \\\n",
       "0                                                 No     \n",
       "1                                                Yes     \n",
       "2                                                Yes     \n",
       "3                                                Yes     \n",
       "4                                                Yes     \n",
       "\n",
       "  engineTransmission_engineBlowByBackCompression_cc_value_0  \\\n",
       "0                             Back Compression Exist          \n",
       "1                                         NO Blow-by          \n",
       "2                              Perm. Blow By on idle          \n",
       "3                                         NO Blow-by          \n",
       "4                                         NO Blow-by          \n",
       "\n",
       "  engineTransmission_clutch_value engineTransmission_clutch_cc_value_0  \\\n",
       "0                              No                               Spongy   \n",
       "1                             Yes                                  NaN   \n",
       "2                              No                                 Hard   \n",
       "3                              No                                 Hard   \n",
       "4                              No                               Spongy   \n",
       "\n",
       "  engineTransmission_gearShifting_value     fuel_type odometer_reading  \\\n",
       "0                                   Yes  Petrol + CNG         124600.0   \n",
       "1                                   Yes  Petrol + CNG          78108.0   \n",
       "2                                   Yes        Diesel          93348.0   \n",
       "3                                   Yes  Petrol + CNG          48233.0   \n",
       "4                                   Yes  Petrol + CNG          74368.0   \n",
       "\n",
       "  rating_engineTransmission  \n",
       "0                       3.0  \n",
       "1                       4.0  \n",
       "2                       3.5  \n",
       "3                       3.5  \n",
       "4                       4.0  \n",
       "\n",
       "[5 rows x 28 columns]"
      ]
     },
     "execution_count": 37,
     "metadata": {},
     "output_type": "execute_result"
    }
   ],
   "source": [
    "df.head()"
   ]
  },
  {
   "cell_type": "code",
   "execution_count": 40,
   "id": "2412202b",
   "metadata": {},
   "outputs": [
    {
     "data": {
      "text/plain": [
       "year                                                         0\n",
       "month                                                        0\n",
       "engineTransmission_battery_value                             0\n",
       "engineTransmission_engineoilLevelDipstick_value              0\n",
       "engineTransmission_engineOil                                 0\n",
       "engineTransmission_engineOil_cc_value_0                      0\n",
       "engineTransmission_engineOil_cc_value_1                      0\n",
       "engineTransmission_engineOil_cc_value_2                      0\n",
       "engineTransmission_engine_value                              0\n",
       "engineTransmission_engine_cc_value_0                         0\n",
       "engineTransmission_coolant_value                             0\n",
       "engineTransmission_coolant_cc_value_0                        0\n",
       "engineTransmission_engineMounting_value                      0\n",
       "engineTransmission_engineMounting_cc_value_0                 0\n",
       "engineTransmission_engineSound_value                         0\n",
       "engineTransmission_engineSound_cc_value_0                    0\n",
       "engineTransmission_engineSound_cc_value_1                    0\n",
       "engineTransmission_engineSound_cc_value_2                    0\n",
       "engineTransmission_exhaustSmoke_value                        0\n",
       "engineTransmission_exhaustSmoke_cc_value_0                   0\n",
       "engineTransmission_engineBlowByBackCompression_value         0\n",
       "engineTransmission_engineBlowByBackCompression_cc_value_0    0\n",
       "engineTransmission_clutch_value                              0\n",
       "engineTransmission_clutch_cc_value_0                         0\n",
       "engineTransmission_gearShifting_value                        0\n",
       "fuel_type                                                    0\n",
       "odometer_reading                                             0\n",
       "rating_engineTransmission                                    0\n",
       "dtype: int64"
      ]
     },
     "execution_count": 40,
     "metadata": {},
     "output_type": "execute_result"
    }
   ],
   "source": [
    "k.isnull().sum()"
   ]
  },
  {
   "cell_type": "code",
   "execution_count": 77,
   "id": "c9de40e8",
   "metadata": {
    "scrolled": true
   },
   "outputs": [
    {
     "name": "stderr",
     "output_type": "stream",
     "text": [
      "C:\\Users\\Dell\\Downloads\\python\\New folder\\lib\\site-packages\\seaborn\\_decorators.py:36: FutureWarning: Pass the following variable as a keyword arg: x. From version 0.12, the only valid positional argument will be `data`, and passing other arguments without an explicit keyword will result in an error or misinterpretation.\n",
      "  warnings.warn(\n"
     ]
    },
    {
     "data": {
      "image/png": "[encoded data removed]",
      "text/plain": [
       "<Figure size 432x288 with 1 Axes>"
      ]
     },
     "metadata": {
      "needs_background": "light"
     },
     "output_type": "display_data"
    }
   ],
   "source": [
    "sns.countplot(df['rating_engineTransmission'])\n",
    "plt.show()"
   ]
  },
  {
   "cell_type": "code",
   "execution_count": 80,
   "id": "6a84906b",
   "metadata": {
    "scrolled": false
   },
   "outputs": [
    {
     "name": "stderr",
     "output_type": "stream",
     "text": [
      "C:\\Users\\Dell\\Downloads\\python\\New folder\\lib\\site-packages\\seaborn\\_decorators.py:36: FutureWarning: Pass the following variable as a keyword arg: x. From version 0.12, the only valid positional argument will be `data`, and passing other arguments without an explicit keyword will result in an error or misinterpretation.\n",
      "  warnings.warn(\n"
     ]
    },
    {
     "data": {
      "text/plain": [
       "<AxesSubplot:xlabel='month'>"
      ]
     },
     "execution_count": 80,
     "metadata": {},
     "output_type": "execute_result"
    },
    {
     "data": {
      "image/png": "[encoded data removed]",
      "text/plain": [
       "<Figure size 432x288 with 1 Axes>"
      ]
     },
     "metadata": {
      "needs_background": "light"
     },
     "output_type": "display_data"
    }
   ],
   "source": [
    "sns.boxplot(df[\"month\"])"
   ]
  },
  {
   "cell_type": "code",
   "execution_count": 81,
   "id": "6f1f388e",
   "metadata": {},
   "outputs": [
    {
     "name": "stderr",
     "output_type": "stream",
     "text": [
      "C:\\Users\\Dell\\Downloads\\python\\New folder\\lib\\site-packages\\seaborn\\_decorators.py:36: FutureWarning: Pass the following variable as a keyword arg: x. From version 0.12, the only valid positional argument will be `data`, and passing other arguments without an explicit keyword will result in an error or misinterpretation.\n",
      "  warnings.warn(\n"
     ]
    },
    {
     "data": {
      "text/plain": [
       "<AxesSubplot:xlabel='year'>"
      ]
     },
     "execution_count": 81,
     "metadata": {},
     "output_type": "execute_result"
    },
    {
     "data": {
      "image/png": "[encoded data removed]",
      "text/plain": [
       "<Figure size 432x288 with 1 Axes>"
      ]
     },
     "metadata": {
      "needs_background": "light"
     },
     "output_type": "display_data"
    }
   ],
   "source": [
    "sns.boxplot(df[\"year\"])"
   ]
  },
  {
   "cell_type": "code",
   "execution_count": 57,
   "id": "403d97ba",
   "metadata": {},
   "outputs": [
    {
     "data": {
      "image/png": "[encoded data removed]",
      "text/plain": [
       "<Figure size 1080x576 with 2 Axes>"
      ]
     },
     "metadata": {
      "needs_background": "light"
     },
     "output_type": "display_data"
    }
   ],
   "source": [
    "fig, ax = plt.subplots(1, 2, figsize=(15, 8))\n",
    "sns.scatterplot(data=df, x='year', y='rating_engineTransmission', ax=ax[0])\n",
    "sns.scatterplot(data=df, x='odometer_reading', y='rating_engineTransmission', ax=ax[1])\n",
    "plt.show()"
   ]
  },
  {
   "cell_type": "code",
   "execution_count": 74,
   "id": "61d41860",
   "metadata": {},
   "outputs": [
    {
     "data": {
      "image/png": "[encoded data removed]",
      "text/plain": [
       "<Figure size 864x576 with 2 Axes>"
      ]
     },
     "metadata": {
      "needs_background": "light"
     },
     "output_type": "display_data"
    }
   ],
   "source": [
    "corr = df.corr()\n",
    "plt.figure(figsize=(12, 8))\n",
    "sns.heatmap(corr, vmax=1.0, vmin=-1.0, annot=True)\n",
    "\n",
    "plt.title('Correlation matrix')\n",
    "plt.show()"
   ]
  },
  {
   "cell_type": "code",
   "execution_count": 59,
   "id": "3083f352",
   "metadata": {},
   "outputs": [
    {
     "data": {
      "text/html": [
       "<div>\n",
       "<style scoped>\n",
       "    .dataframe tbody tr th:only-of-type {\n",
       "        vertical-align: middle;\n",
       "    }\n",
       "\n",
       "    .dataframe tbody tr th {\n",
       "        vertical-align: top;\n",
       "    }\n",
       "\n",
       "    .dataframe thead th {\n",
       "        text-align: right;\n",
       "    }\n",
       "</style>\n",
       "<table border=\"1\" class=\"dataframe\">\n",
       "  <thead>\n",
       "    <tr style=\"text-align: right;\">\n",
       "      <th></th>\n",
       "      <th>year</th>\n",
       "      <th>month</th>\n",
       "      <th>engineTransmission_battery_value</th>\n",
       "      <th>engineTransmission_engineoilLevelDipstick_value</th>\n",
       "      <th>engineTransmission_engineOil</th>\n",
       "      <th>engineTransmission_engineOil_cc_value_0</th>\n",
       "      <th>engineTransmission_engineOil_cc_value_1</th>\n",
       "      <th>engineTransmission_engineOil_cc_value_2</th>\n",
       "      <th>engineTransmission_engine_value</th>\n",
       "      <th>engineTransmission_engine_cc_value_0</th>\n",
       "      <th>...</th>\n",
       "      <th>engineTransmission_exhaustSmoke_value</th>\n",
       "      <th>engineTransmission_exhaustSmoke_cc_value_0</th>\n",
       "      <th>engineTransmission_engineBlowByBackCompression_value</th>\n",
       "      <th>engineTransmission_engineBlowByBackCompression_cc_value_0</th>\n",
       "      <th>engineTransmission_clutch_value</th>\n",
       "      <th>engineTransmission_clutch_cc_value_0</th>\n",
       "      <th>engineTransmission_gearShifting_value</th>\n",
       "      <th>fuel_type</th>\n",
       "      <th>odometer_reading</th>\n",
       "      <th>rating_engineTransmission</th>\n",
       "    </tr>\n",
       "  </thead>\n",
       "  <tbody>\n",
       "    <tr>\n",
       "      <th>0</th>\n",
       "      <td>2008.0</td>\n",
       "      <td>8.0</td>\n",
       "      <td>No</td>\n",
       "      <td>Yes</td>\n",
       "      <td>No</td>\n",
       "      <td>Leaking</td>\n",
       "      <td>Dirty</td>\n",
       "      <td>Leakage from Tappet Cover</td>\n",
       "      <td>No</td>\n",
       "      <td>Repaired</td>\n",
       "      <td>...</td>\n",
       "      <td>No</td>\n",
       "      <td>White</td>\n",
       "      <td>No</td>\n",
       "      <td>Back Compression Exist</td>\n",
       "      <td>No</td>\n",
       "      <td>Spongy</td>\n",
       "      <td>Yes</td>\n",
       "      <td>Petrol + CNG</td>\n",
       "      <td>124600.0</td>\n",
       "      <td>3.0</td>\n",
       "    </tr>\n",
       "    <tr>\n",
       "      <th>1</th>\n",
       "      <td>2007.0</td>\n",
       "      <td>5.0</td>\n",
       "      <td>Yes</td>\n",
       "      <td>Yes</td>\n",
       "      <td>No</td>\n",
       "      <td>Leaking</td>\n",
       "      <td>Dirty</td>\n",
       "      <td>Leakage from Tappet Cover</td>\n",
       "      <td>No</td>\n",
       "      <td>RPM fluctuating</td>\n",
       "      <td>...</td>\n",
       "      <td>No</td>\n",
       "      <td>Noise from silencer assembly</td>\n",
       "      <td>Yes</td>\n",
       "      <td>NO Blow-by</td>\n",
       "      <td>Yes</td>\n",
       "      <td>NaN</td>\n",
       "      <td>Yes</td>\n",
       "      <td>Petrol + CNG</td>\n",
       "      <td>78108.0</td>\n",
       "      <td>4.0</td>\n",
       "    </tr>\n",
       "    <tr>\n",
       "      <th>2</th>\n",
       "      <td>2012.0</td>\n",
       "      <td>5.0</td>\n",
       "      <td>Yes</td>\n",
       "      <td>Yes</td>\n",
       "      <td>No</td>\n",
       "      <td>Dirty</td>\n",
       "      <td>NaN</td>\n",
       "      <td>NaN</td>\n",
       "      <td>Yes</td>\n",
       "      <td>NaN</td>\n",
       "      <td>...</td>\n",
       "      <td>No</td>\n",
       "      <td>Black</td>\n",
       "      <td>Yes</td>\n",
       "      <td>Perm. Blow By on idle</td>\n",
       "      <td>No</td>\n",
       "      <td>Hard</td>\n",
       "      <td>Yes</td>\n",
       "      <td>Diesel</td>\n",
       "      <td>93348.0</td>\n",
       "      <td>3.5</td>\n",
       "    </tr>\n",
       "    <tr>\n",
       "      <th>3</th>\n",
       "      <td>2013.0</td>\n",
       "      <td>1.0</td>\n",
       "      <td>Yes</td>\n",
       "      <td>Yes</td>\n",
       "      <td>No</td>\n",
       "      <td>Dirty</td>\n",
       "      <td>NaN</td>\n",
       "      <td>NaN</td>\n",
       "      <td>Yes</td>\n",
       "      <td>NaN</td>\n",
       "      <td>...</td>\n",
       "      <td>Yes</td>\n",
       "      <td>NaN</td>\n",
       "      <td>Yes</td>\n",
       "      <td>NO Blow-by</td>\n",
       "      <td>No</td>\n",
       "      <td>Hard</td>\n",
       "      <td>Yes</td>\n",
       "      <td>Petrol + CNG</td>\n",
       "      <td>48233.0</td>\n",
       "      <td>3.5</td>\n",
       "    </tr>\n",
       "    <tr>\n",
       "      <th>4</th>\n",
       "      <td>2011.0</td>\n",
       "      <td>7.0</td>\n",
       "      <td>Yes</td>\n",
       "      <td>Yes</td>\n",
       "      <td>No</td>\n",
       "      <td>Leaking</td>\n",
       "      <td>Leakage from Tappet Cover</td>\n",
       "      <td>NaN</td>\n",
       "      <td>No</td>\n",
       "      <td>RPM fluctuating</td>\n",
       "      <td>...</td>\n",
       "      <td>No</td>\n",
       "      <td>White</td>\n",
       "      <td>Yes</td>\n",
       "      <td>NO Blow-by</td>\n",
       "      <td>No</td>\n",
       "      <td>Spongy</td>\n",
       "      <td>Yes</td>\n",
       "      <td>Petrol + CNG</td>\n",
       "      <td>74368.0</td>\n",
       "      <td>4.0</td>\n",
       "    </tr>\n",
       "  </tbody>\n",
       "</table>\n",
       "<p>5 rows × 28 columns</p>\n",
       "</div>"
      ],
      "text/plain": [
       "     year  month engineTransmission_battery_value  \\\n",
       "0  2008.0    8.0                               No   \n",
       "1  2007.0    5.0                              Yes   \n",
       "2  2012.0    5.0                              Yes   \n",
       "3  2013.0    1.0                              Yes   \n",
       "4  2011.0    7.0                              Yes   \n",
       "\n",
       "  engineTransmission_engineoilLevelDipstick_value  \\\n",
       "0                                             Yes   \n",
       "1                                             Yes   \n",
       "2                                             Yes   \n",
       "3                                             Yes   \n",
       "4                                             Yes   \n",
       "\n",
       "  engineTransmission_engineOil engineTransmission_engineOil_cc_value_0  \\\n",
       "0                           No                                 Leaking   \n",
       "1                           No                                 Leaking   \n",
       "2                           No                                   Dirty   \n",
       "3                           No                                   Dirty   \n",
       "4                           No                                 Leaking   \n",
       "\n",
       "  engineTransmission_engineOil_cc_value_1  \\\n",
       "0                                   Dirty   \n",
       "1                                   Dirty   \n",
       "2                                     NaN   \n",
       "3                                     NaN   \n",
       "4               Leakage from Tappet Cover   \n",
       "\n",
       "  engineTransmission_engineOil_cc_value_2 engineTransmission_engine_value  \\\n",
       "0               Leakage from Tappet Cover                              No   \n",
       "1               Leakage from Tappet Cover                              No   \n",
       "2                                     NaN                             Yes   \n",
       "3                                     NaN                             Yes   \n",
       "4                                     NaN                              No   \n",
       "\n",
       "  engineTransmission_engine_cc_value_0  ...  \\\n",
       "0                             Repaired  ...   \n",
       "1                      RPM fluctuating  ...   \n",
       "2                                  NaN  ...   \n",
       "3                                  NaN  ...   \n",
       "4                      RPM fluctuating  ...   \n",
       "\n",
       "  engineTransmission_exhaustSmoke_value  \\\n",
       "0                                    No   \n",
       "1                                    No   \n",
       "2                                    No   \n",
       "3                                   Yes   \n",
       "4                                    No   \n",
       "\n",
       "  engineTransmission_exhaustSmoke_cc_value_0  \\\n",
       "0                                      White   \n",
       "1               Noise from silencer assembly   \n",
       "2                                      Black   \n",
       "3                                        NaN   \n",
       "4                                      White   \n",
       "\n",
       "  engineTransmission_engineBlowByBackCompression_value  \\\n",
       "0                                                 No     \n",
       "1                                                Yes     \n",
       "2                                                Yes     \n",
       "3                                                Yes     \n",
       "4                                                Yes     \n",
       "\n",
       "  engineTransmission_engineBlowByBackCompression_cc_value_0  \\\n",
       "0                             Back Compression Exist          \n",
       "1                                         NO Blow-by          \n",
       "2                              Perm. Blow By on idle          \n",
       "3                                         NO Blow-by          \n",
       "4                                         NO Blow-by          \n",
       "\n",
       "  engineTransmission_clutch_value engineTransmission_clutch_cc_value_0  \\\n",
       "0                              No                               Spongy   \n",
       "1                             Yes                                  NaN   \n",
       "2                              No                                 Hard   \n",
       "3                              No                                 Hard   \n",
       "4                              No                               Spongy   \n",
       "\n",
       "  engineTransmission_gearShifting_value     fuel_type odometer_reading  \\\n",
       "0                                   Yes  Petrol + CNG         124600.0   \n",
       "1                                   Yes  Petrol + CNG          78108.0   \n",
       "2                                   Yes        Diesel          93348.0   \n",
       "3                                   Yes  Petrol + CNG          48233.0   \n",
       "4                                   Yes  Petrol + CNG          74368.0   \n",
       "\n",
       "  rating_engineTransmission  \n",
       "0                       3.0  \n",
       "1                       4.0  \n",
       "2                       3.5  \n",
       "3                       3.5  \n",
       "4                       4.0  \n",
       "\n",
       "[5 rows x 28 columns]"
      ]
     },
     "execution_count": 59,
     "metadata": {},
     "output_type": "execute_result"
    }
   ],
   "source": [
    "df.head()"
   ]
  },
  {
   "cell_type": "markdown",
   "id": "2ea8eb1c",
   "metadata": {},
   "source": [
    "# Data Preprocessing and feature selection"
   ]
  },
  {
   "cell_type": "code",
   "execution_count": 88,
   "id": "9b4afa9e",
   "metadata": {},
   "outputs": [],
   "source": [
    "# 1. Split into training set & target\n",
    "train = k.drop('rating_engineTransmission', axis=1).reset_index().drop('index', axis=1)\n",
    "target = k['rating_engineTransmission'].reset_index().drop('index', axis=1)\n",
    "\n",
    "# 2. Encode the categorical variables\n",
    "train_encoded = pd.get_dummies(train, drop_first=True)\n",
    "\n"
   ]
  },
  {
   "cell_type": "code",
   "execution_count": 89,
   "id": "455258c4",
   "metadata": {},
   "outputs": [],
   "source": [
    "from sklearn.preprocessing import MinMaxScaler\n",
    "\n",
    "mms = MinMaxScaler()\n",
    "X = pd.DataFrame(mms.fit_transform(train_encoded), columns=train_encoded.columns)\n",
    "y = target"
   ]
  },
  {
   "cell_type": "markdown",
   "id": "5ce0109a",
   "metadata": {},
   "source": [
    "### train test split"
   ]
  },
  {
   "cell_type": "code",
   "execution_count": 90,
   "id": "98aa3767",
   "metadata": {},
   "outputs": [],
   "source": [
    "from sklearn.model_selection import train_test_split"
   ]
  },
  {
   "cell_type": "code",
   "execution_count": 91,
   "id": "95ff8db8",
   "metadata": {},
   "outputs": [],
   "source": [
    "# Split the data into train & test\n",
    "X_train, X_test, y_train, y_test = train_test_split(X, y, test_size=0.2, random_state=42)"
   ]
  },
  {
   "cell_type": "markdown",
   "id": "e6eba77b",
   "metadata": {},
   "source": [
    "# Multiple Linear Regression"
   ]
  },
  {
   "cell_type": "code",
   "execution_count": 82,
   "id": "3671deed",
   "metadata": {},
   "outputs": [
    {
     "data": {
      "text/plain": [
       "LinearRegression()"
      ]
     },
     "execution_count": 82,
     "metadata": {},
     "output_type": "execute_result"
    }
   ],
   "source": [
    "from sklearn.linear_model import LinearRegression\n",
    "model = LinearRegression()\n",
    "model.fit(X_train,y_train)"
   ]
  },
  {
   "cell_type": "code",
   "execution_count": 84,
   "id": "9bee4770",
   "metadata": {},
   "outputs": [],
   "source": [
    "pred=model.predict(X_test)"
   ]
  },
  {
   "cell_type": "code",
   "execution_count": 85,
   "id": "7ebebb46",
   "metadata": {},
   "outputs": [
    {
     "data": {
      "text/plain": [
       "4.793128276342812e+17"
      ]
     },
     "execution_count": 85,
     "metadata": {},
     "output_type": "execute_result"
    }
   ],
   "source": [
    "from sklearn.metrics import mean_squared_error\n",
    " \n",
    "mean_squared_error(y_test, pred)"
   ]
  },
  {
   "cell_type": "code",
   "execution_count": null,
   "id": "4232bedb",
   "metadata": {},
   "outputs": [],
   "source": []
  },
  {
   "cell_type": "code",
   "execution_count": null,
   "id": "1a24aa6b",
   "metadata": {},
   "outputs": [],
   "source": []
  },
  {
   "cell_type": "markdown",
   "id": "0fb0dbd2",
   "metadata": {},
   "source": [
    "## so our independent variable is a continious variable                                        that's why we can not use classification                                                            for that we use REGRESSION"
   ]
  },
  {
   "cell_type": "code",
   "execution_count": 95,
   "id": "f231334f",
   "metadata": {},
   "outputs": [],
   "source": [
    "from sklearn.neighbors import KNeighborsClassifier\n",
    "from sklearn.neighbors import KNeighborsRegressor\n",
    "from sklearn.tree import DecisionTreeRegressor\n",
    "from sklearn.ensemble import RandomForestRegressor"
   ]
  },
  {
   "cell_type": "markdown",
   "id": "ec0634fc",
   "metadata": {},
   "source": [
    "# K Neighbors Regressor"
   ]
  },
  {
   "cell_type": "code",
   "execution_count": 96,
   "id": "46c61ad8",
   "metadata": {},
   "outputs": [
    {
     "name": "stdout",
     "output_type": "stream",
     "text": [
      "0.7445715647546234 0.6328903893407444 0.5929531104812935\n"
     ]
    }
   ],
   "source": [
    "# Generating KFold Split for cross validation\n",
    "X_train, X_val, y_train, y_val = train_test_split(X_train, y_train, test_size=0.2, random_state=42)\n",
    "\n",
    "# 1. Building KNN model\n",
    "knn = KNeighborsRegressor()\n",
    "knn.fit(X_train, y_train)\n",
    "\n",
    "# Print the R squared scores\n",
    "knn_train_score = knn.score(X_train, y_train)\n",
    "knn_val_score = knn.score(X_val, y_val)\n",
    "knn_test_score = knn.score(X_test, y_test)\n",
    "\n",
    "print(knn_train_score, knn_val_score,knn_test_score)"
   ]
  },
  {
   "cell_type": "markdown",
   "id": "c6bb5599",
   "metadata": {},
   "source": [
    "# Decision Tree Regressor"
   ]
  },
  {
   "cell_type": "code",
   "execution_count": 112,
   "id": "4b5497e8",
   "metadata": {},
   "outputs": [
    {
     "name": "stdout",
     "output_type": "stream",
     "text": [
      "1.0 0.4775119647821471\n"
     ]
    }
   ],
   "source": [
    "# 2. Decision Tree\n",
    "dt = DecisionTreeRegressor()\n",
    "dt.fit(X_train, y_train)\n",
    "\n",
    "# Print the R squared scores\n",
    "dt_train_score = dt.score(X_train, y_train)\n",
    "dt_val_score = dt.score(X_val, y_val)\n",
    "print(dt_train_score, dt_val_score)"
   ]
  },
  {
   "cell_type": "code",
   "execution_count": 113,
   "id": "972909d3",
   "metadata": {},
   "outputs": [],
   "source": [
    "pred = model.predict(X_test)"
   ]
  },
  {
   "cell_type": "code",
   "execution_count": null,
   "id": "9326d0a3",
   "metadata": {},
   "outputs": [],
   "source": [
    "from sklearn.metrics import classification_report\n",
    "from sklearn.metrics import confusion_matrix\n",
    "print(classification_report(y_test, pred))\n",
    "print(confusion_matrix(y_test, pred))"
   ]
  },
  {
   "cell_type": "code",
   "execution_count": null,
   "id": "1676a6fb",
   "metadata": {},
   "outputs": [],
   "source": [
    "from sklearn.metrics import accuracy_score\n",
    "\n",
    "print(accuracy_score(y_test, pred))\n"
   ]
  },
  {
   "cell_type": "code",
   "execution_count": null,
   "id": "68afaadf",
   "metadata": {},
   "outputs": [],
   "source": []
  },
  {
   "cell_type": "code",
   "execution_count": 101,
   "id": "0731420e",
   "metadata": {},
   "outputs": [
    {
     "name": "stdout",
     "output_type": "stream",
     "text": [
      "0.7445715647546234 0.6328903893407444 0.5929531104812935\n"
     ]
    }
   ],
   "source": [
    "from sklearn.tree import DecisionTreeClassifier\n",
    "model = DecisionTreeClassifier()\n",
    "model.fit(X_train, y_transformed)\n",
    "\n",
    "knn_train_score = knn.score(X_train, y_train)\n",
    "knn_val_score = knn.score(X_val, y_val)\n",
    "knn_test_score = knn.score(X_test, y_test)\n",
    "\n",
    "print(knn_train_score, knn_val_score,knn_test_score)"
   ]
  },
  {
   "cell_type": "markdown",
   "id": "e253534c",
   "metadata": {},
   "source": [
    "# Random Forest Regressor"
   ]
  },
  {
   "cell_type": "code",
   "execution_count": 99,
   "id": "659d1982",
   "metadata": {
    "scrolled": true
   },
   "outputs": [
    {
     "name": "stderr",
     "output_type": "stream",
     "text": [
      "C:\\Users\\Dell\\AppData\\Local\\Temp/ipykernel_1444/2713709483.py:3: DataConversionWarning: A column-vector y was passed when a 1d array was expected. Please change the shape of y to (n_samples,), for example using ravel().\n",
      "  rf.fit(X_train, y_train)\n"
     ]
    },
    {
     "name": "stdout",
     "output_type": "stream",
     "text": [
      "0.9607439250205136 0.7338856979935853\n"
     ]
    }
   ],
   "source": [
    "# 3. Random Forest \n",
    "rf = RandomForestRegressor()\n",
    "rf.fit(X_train, y_train)\n",
    "\n",
    "# Print the R squared scores\n",
    "rf_train_score = rf.score(X_train, y_train)\n",
    "rf_val_score = rf.score(X_val, y_val)\n",
    "print(rf_train_score, rf_val_score)"
   ]
  },
  {
   "cell_type": "code",
   "execution_count": 124,
   "id": "c6fcf9e5",
   "metadata": {},
   "outputs": [],
   "source": [
    "random_pred=rf.predict(X_test)"
   ]
  },
  {
   "cell_type": "code",
   "execution_count": 125,
   "id": "6b2ed1eb",
   "metadata": {},
   "outputs": [],
   "source": [
    "from sklearn.metrics import accuracy_score"
   ]
  },
  {
   "cell_type": "code",
   "execution_count": 127,
   "id": "08d4072b",
   "metadata": {},
   "outputs": [
    {
     "ename": "ValueError",
     "evalue": "continuous is not supported",
     "output_type": "error",
     "traceback": [
      "\u001b[1;31m---------------------------------------------------------------------------\u001b[0m",
      "\u001b[1;31mValueError\u001b[0m                                Traceback (most recent call last)",
      "\u001b[1;32m~\\AppData\\Local\\Temp/ipykernel_1444/3462750754.py\u001b[0m in \u001b[0;36m<module>\u001b[1;34m\u001b[0m\n\u001b[1;32m----> 1\u001b[1;33m \u001b[0mprint\u001b[0m\u001b[1;33m(\u001b[0m\u001b[0maccuracy_score\u001b[0m\u001b[1;33m(\u001b[0m\u001b[0my_test\u001b[0m\u001b[1;33m,\u001b[0m \u001b[0mrandom_pred\u001b[0m\u001b[1;33m)\u001b[0m\u001b[1;33m)\u001b[0m\u001b[1;33m\u001b[0m\u001b[1;33m\u001b[0m\u001b[0m\n\u001b[0m",
      "\u001b[1;32m~\\Downloads\\python\\New folder\\lib\\site-packages\\sklearn\\utils\\validation.py\u001b[0m in \u001b[0;36minner_f\u001b[1;34m(*args, **kwargs)\u001b[0m\n\u001b[0;32m     61\u001b[0m             \u001b[0mextra_args\u001b[0m \u001b[1;33m=\u001b[0m \u001b[0mlen\u001b[0m\u001b[1;33m(\u001b[0m\u001b[0margs\u001b[0m\u001b[1;33m)\u001b[0m \u001b[1;33m-\u001b[0m \u001b[0mlen\u001b[0m\u001b[1;33m(\u001b[0m\u001b[0mall_args\u001b[0m\u001b[1;33m)\u001b[0m\u001b[1;33m\u001b[0m\u001b[1;33m\u001b[0m\u001b[0m\n\u001b[0;32m     62\u001b[0m             \u001b[1;32mif\u001b[0m \u001b[0mextra_args\u001b[0m \u001b[1;33m<=\u001b[0m \u001b[1;36m0\u001b[0m\u001b[1;33m:\u001b[0m\u001b[1;33m\u001b[0m\u001b[1;33m\u001b[0m\u001b[0m\n\u001b[1;32m---> 63\u001b[1;33m                 \u001b[1;32mreturn\u001b[0m \u001b[0mf\u001b[0m\u001b[1;33m(\u001b[0m\u001b[1;33m*\u001b[0m\u001b[0margs\u001b[0m\u001b[1;33m,\u001b[0m \u001b[1;33m**\u001b[0m\u001b[0mkwargs\u001b[0m\u001b[1;33m)\u001b[0m\u001b[1;33m\u001b[0m\u001b[1;33m\u001b[0m\u001b[0m\n\u001b[0m\u001b[0;32m     64\u001b[0m \u001b[1;33m\u001b[0m\u001b[0m\n\u001b[0;32m     65\u001b[0m             \u001b[1;31m# extra_args > 0\u001b[0m\u001b[1;33m\u001b[0m\u001b[1;33m\u001b[0m\u001b[0m\n",
      "\u001b[1;32m~\\Downloads\\python\\New folder\\lib\\site-packages\\sklearn\\metrics\\_classification.py\u001b[0m in \u001b[0;36maccuracy_score\u001b[1;34m(y_true, y_pred, normalize, sample_weight)\u001b[0m\n\u001b[0;32m    200\u001b[0m \u001b[1;33m\u001b[0m\u001b[0m\n\u001b[0;32m    201\u001b[0m     \u001b[1;31m# Compute accuracy for each possible representation\u001b[0m\u001b[1;33m\u001b[0m\u001b[1;33m\u001b[0m\u001b[0m\n\u001b[1;32m--> 202\u001b[1;33m     \u001b[0my_type\u001b[0m\u001b[1;33m,\u001b[0m \u001b[0my_true\u001b[0m\u001b[1;33m,\u001b[0m \u001b[0my_pred\u001b[0m \u001b[1;33m=\u001b[0m \u001b[0m_check_targets\u001b[0m\u001b[1;33m(\u001b[0m\u001b[0my_true\u001b[0m\u001b[1;33m,\u001b[0m \u001b[0my_pred\u001b[0m\u001b[1;33m)\u001b[0m\u001b[1;33m\u001b[0m\u001b[1;33m\u001b[0m\u001b[0m\n\u001b[0m\u001b[0;32m    203\u001b[0m     \u001b[0mcheck_consistent_length\u001b[0m\u001b[1;33m(\u001b[0m\u001b[0my_true\u001b[0m\u001b[1;33m,\u001b[0m \u001b[0my_pred\u001b[0m\u001b[1;33m,\u001b[0m \u001b[0msample_weight\u001b[0m\u001b[1;33m)\u001b[0m\u001b[1;33m\u001b[0m\u001b[1;33m\u001b[0m\u001b[0m\n\u001b[0;32m    204\u001b[0m     \u001b[1;32mif\u001b[0m \u001b[0my_type\u001b[0m\u001b[1;33m.\u001b[0m\u001b[0mstartswith\u001b[0m\u001b[1;33m(\u001b[0m\u001b[1;34m'multilabel'\u001b[0m\u001b[1;33m)\u001b[0m\u001b[1;33m:\u001b[0m\u001b[1;33m\u001b[0m\u001b[1;33m\u001b[0m\u001b[0m\n",
      "\u001b[1;32m~\\Downloads\\python\\New folder\\lib\\site-packages\\sklearn\\metrics\\_classification.py\u001b[0m in \u001b[0;36m_check_targets\u001b[1;34m(y_true, y_pred)\u001b[0m\n\u001b[0;32m     98\u001b[0m     \u001b[1;31m# No metrics support \"multiclass-multioutput\" format\u001b[0m\u001b[1;33m\u001b[0m\u001b[1;33m\u001b[0m\u001b[0m\n\u001b[0;32m     99\u001b[0m     \u001b[1;32mif\u001b[0m \u001b[1;33m(\u001b[0m\u001b[0my_type\u001b[0m \u001b[1;32mnot\u001b[0m \u001b[1;32min\u001b[0m \u001b[1;33m[\u001b[0m\u001b[1;34m\"binary\"\u001b[0m\u001b[1;33m,\u001b[0m \u001b[1;34m\"multiclass\"\u001b[0m\u001b[1;33m,\u001b[0m \u001b[1;34m\"multilabel-indicator\"\u001b[0m\u001b[1;33m]\u001b[0m\u001b[1;33m)\u001b[0m\u001b[1;33m:\u001b[0m\u001b[1;33m\u001b[0m\u001b[1;33m\u001b[0m\u001b[0m\n\u001b[1;32m--> 100\u001b[1;33m         \u001b[1;32mraise\u001b[0m \u001b[0mValueError\u001b[0m\u001b[1;33m(\u001b[0m\u001b[1;34m\"{0} is not supported\"\u001b[0m\u001b[1;33m.\u001b[0m\u001b[0mformat\u001b[0m\u001b[1;33m(\u001b[0m\u001b[0my_type\u001b[0m\u001b[1;33m)\u001b[0m\u001b[1;33m)\u001b[0m\u001b[1;33m\u001b[0m\u001b[1;33m\u001b[0m\u001b[0m\n\u001b[0m\u001b[0;32m    101\u001b[0m \u001b[1;33m\u001b[0m\u001b[0m\n\u001b[0;32m    102\u001b[0m     \u001b[1;32mif\u001b[0m \u001b[0my_type\u001b[0m \u001b[1;32min\u001b[0m \u001b[1;33m[\u001b[0m\u001b[1;34m\"binary\"\u001b[0m\u001b[1;33m,\u001b[0m \u001b[1;34m\"multiclass\"\u001b[0m\u001b[1;33m]\u001b[0m\u001b[1;33m:\u001b[0m\u001b[1;33m\u001b[0m\u001b[1;33m\u001b[0m\u001b[0m\n",
      "\u001b[1;31mValueError\u001b[0m: continuous is not supported"
     ]
    }
   ],
   "source": [
    "print(accuracy_score(y_test, random_pred))"
   ]
  },
  {
   "cell_type": "markdown",
   "id": "1ac551e0",
   "metadata": {},
   "source": [
    "- result"
   ]
  },
  {
   "cell_type": "code",
   "execution_count": 121,
   "id": "d2a2b968",
   "metadata": {},
   "outputs": [
    {
     "data": {
      "text/html": [
       "<div>\n",
       "<style scoped>\n",
       "    .dataframe tbody tr th:only-of-type {\n",
       "        vertical-align: middle;\n",
       "    }\n",
       "\n",
       "    .dataframe tbody tr th {\n",
       "        vertical-align: top;\n",
       "    }\n",
       "\n",
       "    .dataframe thead th {\n",
       "        text-align: right;\n",
       "    }\n",
       "</style>\n",
       "<table border=\"1\" class=\"dataframe\">\n",
       "  <thead>\n",
       "    <tr style=\"text-align: right;\">\n",
       "      <th></th>\n",
       "      <th>train_socres</th>\n",
       "      <th>validation_scores</th>\n",
       "    </tr>\n",
       "  </thead>\n",
       "  <tbody>\n",
       "    <tr>\n",
       "      <th>KNN</th>\n",
       "      <td>0.744572</td>\n",
       "      <td>0.632890</td>\n",
       "    </tr>\n",
       "    <tr>\n",
       "      <th>DecisionTree</th>\n",
       "      <td>1.000000</td>\n",
       "      <td>0.477512</td>\n",
       "    </tr>\n",
       "    <tr>\n",
       "      <th>RandomForest</th>\n",
       "      <td>0.960744</td>\n",
       "      <td>0.733886</td>\n",
       "    </tr>\n",
       "  </tbody>\n",
       "</table>\n",
       "</div>"
      ],
      "text/plain": [
       "              train_socres  validation_scores\n",
       "KNN               0.744572           0.632890\n",
       "DecisionTree      1.000000           0.477512\n",
       "RandomForest      0.960744           0.733886"
      ]
     },
     "execution_count": 121,
     "metadata": {},
     "output_type": "execute_result"
    }
   ],
   "source": [
    "\n",
    "model = {'train_socres' : [knn_train_score, dt_train_score, rf_train_score], \n",
    "                     'validation_scores' : [knn_val_score, dt_val_score, rf_val_score]}\n",
    "output = pd.DataFrame(model, index=['KNN', 'DecisionTree', 'RandomForest'])\n",
    "output"
   ]
  },
  {
   "cell_type": "markdown",
   "id": "a78a5636",
   "metadata": {},
   "source": [
    "-  KNN, DecisionTree models are giving results with overfitting.\n",
    "-  RandomForest models which are showing generalization.\n",
    "-  Proceeding with RandomForest."
   ]
  },
  {
   "cell_type": "raw",
   "id": "e6f0c61c",
   "metadata": {},
   "source": [
    " a.       How well does your model work?\n",
    "   ans-        RandomForest model is predict aprox acuracy with 80%\n",
    "b.       How do you know for sure that’s how well it works?\n",
    "   ans-         for RandomForest its work better then other models.\n",
    "c.        What stats did you use to prove its predictive performance and why?\n",
    "   ans-          we are use for this term train score and cross validation score\n",
    "d.       What issues did you encounter?\n",
    "   ans-         facing some issue to encounter null values in datasets.\n"
   ]
  },
  {
   "cell_type": "code",
   "execution_count": null,
   "id": "de90fd2f",
   "metadata": {},
   "outputs": [],
   "source": []
  },
  {
   "cell_type": "markdown",
   "id": "bbaaa8fa",
   "metadata": {},
   "source": [
    "## THE END"
   ]
  },
  {
   "cell_type": "code",
   "execution_count": null,
   "id": "c5131e95",
   "metadata": {},
   "outputs": [],
   "source": []
  }
 ],
 "metadata": {
  "kernelspec": {
   "display_name": "Python 3 (ipykernel)",
   "language": "python",
   "name": "python3"
  },
  "language_info": {
   "codemirror_mode": {
    "name": "ipython",
    "version": 3
   },
   "file_extension": ".py",
   "mimetype": "text/x-python",
   "name": "python",
   "nbconvert_exporter": "python",
   "pygments_lexer": "ipython3",
   "version": "3.9.7"
  }
 },
 "nbformat": 4,
 "nbformat_minor": 5
}
